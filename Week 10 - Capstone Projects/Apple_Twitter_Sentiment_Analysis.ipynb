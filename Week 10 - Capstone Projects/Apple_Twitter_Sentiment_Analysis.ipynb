{
  "nbformat": 4,
  "nbformat_minor": 0,
  "metadata": {
    "colab": {
      "provenance": []
    },
    "kernelspec": {
      "name": "python3",
      "display_name": "Python 3"
    },
    "language_info": {
      "name": "python"
    },
    "accelerator": "GPU",
    "gpuClass": "standard"
  },
  "cells": [
    {
      "cell_type": "markdown",
      "source": [
        "This is a sentiment analysis using tweets regarding Apple. "
      ],
      "metadata": {
        "id": "ZSXHC0JGv2z7"
      }
    },
    {
      "cell_type": "markdown",
      "source": [
        "#Import Libraries"
      ],
      "metadata": {
        "id": "8FjkweHSv9PQ"
      }
    },
    {
      "cell_type": "code",
      "execution_count": 1,
      "metadata": {
        "id": "13unMigeAcer",
        "colab": {
          "base_uri": "https://localhost:8080/"
        },
        "outputId": "a7ef40d7-3f5b-4e6e-bff7-c76ea8195a80"
      },
      "outputs": [
        {
          "output_type": "stream",
          "name": "stderr",
          "text": [
            "[nltk_data] Downloading package wordnet to /root/nltk_data...\n",
            "[nltk_data]   Package wordnet is already up-to-date!\n",
            "[nltk_data] Downloading package omw-1.4 to /root/nltk_data...\n",
            "[nltk_data]   Package omw-1.4 is already up-to-date!\n"
          ]
        },
        {
          "output_type": "execute_result",
          "data": {
            "text/plain": [
              "True"
            ]
          },
          "metadata": {},
          "execution_count": 1
        }
      ],
      "source": [
        "#import regular libraries for data cleaning, data visualization, and data exploration\n",
        "import pandas as pd \n",
        "import numpy as np\n",
        "import string\n",
        "import nltk\n",
        "import nltk.corpus\n",
        "import sklearn\n",
        "import re\n",
        "import seaborn as sns\n",
        "import pickle\n",
        "import matplotlib.pyplot as plt\n",
        "from matplotlib import rcParams\n",
        "import matplotlib as mpl\n",
        "\n",
        "#import Natural Language Toolkit \n",
        "from nltk.stem import WordNetLemmatizer\n",
        "from nltk.corpus import wordnet\n",
        "\n",
        "# sklearn\n",
        "#ML Models\n",
        "from sklearn.svm import LinearSVC\n",
        "from sklearn.tree import DecisionTreeClassifier\n",
        "from sklearn.ensemble import RandomForestClassifier\n",
        "\n",
        "\n",
        "from sklearn.model_selection import train_test_split\n",
        "from sklearn.feature_extraction.text import TfidfVectorizer\n",
        "from sklearn.metrics import classification_report, accuracy_score\n",
        "\n",
        "#To create a pipeline \n",
        "from sklearn.pipeline import Pipeline\n",
        "\n",
        "nltk.download('wordnet')\n",
        "nltk.download('omw-1.4') "
      ]
    },
    {
      "cell_type": "code",
      "source": [
        "#Could not read file, determine what the character encoding is to open file\n",
        "\n",
        "import chardet\n",
        "with open(\"/content/Apple-Twitter-Sentiment-DFE.csv\", 'rb') as rawdata:\n",
        "    result = chardet.detect(rawdata.read(100000))\n",
        "result"
      ],
      "metadata": {
        "colab": {
          "base_uri": "https://localhost:8080/"
        },
        "id": "rA-4NlGjAx9m",
        "outputId": "89b55ce6-0903-48c8-a75a-62cef6f5f6b0"
      },
      "execution_count": 2,
      "outputs": [
        {
          "output_type": "execute_result",
          "data": {
            "text/plain": [
              "{'encoding': 'ISO-8859-1', 'confidence': 0.7295237651444547, 'language': ''}"
            ]
          },
          "metadata": {},
          "execution_count": 2
        }
      ]
    },
    {
      "cell_type": "code",
      "source": [
        "#load file\n",
        "df = pd.read_csv(\"/content/Apple-Twitter-Sentiment-DFE.csv\", encoding='ISO-8859-1')"
      ],
      "metadata": {
        "id": "7yM5Me1VAuIM"
      },
      "execution_count": 3,
      "outputs": []
    },
    {
      "cell_type": "markdown",
      "source": [
        "# EDA"
      ],
      "metadata": {
        "id": "n4x1TUHFB8VP"
      }
    },
    {
      "cell_type": "code",
      "source": [
        "df.head()"
      ],
      "metadata": {
        "id": "cKGnCaHrBMf8",
        "colab": {
          "base_uri": "https://localhost:8080/",
          "height": 617
        },
        "outputId": "ed95734f-a1c1-4595-bb90-1bca53c94de1"
      },
      "execution_count": 4,
      "outputs": [
        {
          "output_type": "execute_result",
          "data": {
            "text/plain": [
              "    _unit_id  _golden _unit_state  _trusted_judgments _last_judgment_at  \\\n",
              "0  623495513     True      golden                  10               NaN   \n",
              "1  623495514     True      golden                  12               NaN   \n",
              "2  623495515     True      golden                  10               NaN   \n",
              "3  623495516     True      golden                  17               NaN   \n",
              "4  623495517    False   finalized                   3    12/12/14 12:14   \n",
              "\n",
              "  sentiment  sentiment:confidence                            date  \\\n",
              "0         3                0.6264  Mon Dec 01 19:30:03 +0000 2014   \n",
              "1         3                0.8129  Mon Dec 01 19:43:51 +0000 2014   \n",
              "2         3                1.0000  Mon Dec 01 19:50:28 +0000 2014   \n",
              "3         3                0.5848  Mon Dec 01 20:26:34 +0000 2014   \n",
              "4         3                0.6474  Mon Dec 01 20:29:33 +0000 2014   \n",
              "\n",
              "             id            query   sentiment_gold  \\\n",
              "0  5.400000e+17  #AAPL OR @Apple  3\\nnot_relevant   \n",
              "1  5.400000e+17  #AAPL OR @Apple             3\\n1   \n",
              "2  5.400000e+17  #AAPL OR @Apple                3   \n",
              "3  5.400000e+17  #AAPL OR @Apple             3\\n1   \n",
              "4  5.400000e+17  #AAPL OR @Apple              NaN   \n",
              "\n",
              "                                                text  \n",
              "0  #AAPL:The 10 best Steve Jobs emails ever...htt...  \n",
              "1  RT @JPDesloges: Why AAPL Stock Had a Mini-Flas...  \n",
              "2  My cat only chews @apple cords. Such an #Apple...  \n",
              "3  I agree with @jimcramer that the #IndividualIn...  \n",
              "4       Nobody expects the Spanish Inquisition #AAPL  "
            ],
            "text/html": [
              "\n",
              "  <div id=\"df-7c8a8f72-cb1d-4ea6-b645-356755beffe2\">\n",
              "    <div class=\"colab-df-container\">\n",
              "      <div>\n",
              "<style scoped>\n",
              "    .dataframe tbody tr th:only-of-type {\n",
              "        vertical-align: middle;\n",
              "    }\n",
              "\n",
              "    .dataframe tbody tr th {\n",
              "        vertical-align: top;\n",
              "    }\n",
              "\n",
              "    .dataframe thead th {\n",
              "        text-align: right;\n",
              "    }\n",
              "</style>\n",
              "<table border=\"1\" class=\"dataframe\">\n",
              "  <thead>\n",
              "    <tr style=\"text-align: right;\">\n",
              "      <th></th>\n",
              "      <th>_unit_id</th>\n",
              "      <th>_golden</th>\n",
              "      <th>_unit_state</th>\n",
              "      <th>_trusted_judgments</th>\n",
              "      <th>_last_judgment_at</th>\n",
              "      <th>sentiment</th>\n",
              "      <th>sentiment:confidence</th>\n",
              "      <th>date</th>\n",
              "      <th>id</th>\n",
              "      <th>query</th>\n",
              "      <th>sentiment_gold</th>\n",
              "      <th>text</th>\n",
              "    </tr>\n",
              "  </thead>\n",
              "  <tbody>\n",
              "    <tr>\n",
              "      <th>0</th>\n",
              "      <td>623495513</td>\n",
              "      <td>True</td>\n",
              "      <td>golden</td>\n",
              "      <td>10</td>\n",
              "      <td>NaN</td>\n",
              "      <td>3</td>\n",
              "      <td>0.6264</td>\n",
              "      <td>Mon Dec 01 19:30:03 +0000 2014</td>\n",
              "      <td>5.400000e+17</td>\n",
              "      <td>#AAPL OR @Apple</td>\n",
              "      <td>3\\nnot_relevant</td>\n",
              "      <td>#AAPL:The 10 best Steve Jobs emails ever...htt...</td>\n",
              "    </tr>\n",
              "    <tr>\n",
              "      <th>1</th>\n",
              "      <td>623495514</td>\n",
              "      <td>True</td>\n",
              "      <td>golden</td>\n",
              "      <td>12</td>\n",
              "      <td>NaN</td>\n",
              "      <td>3</td>\n",
              "      <td>0.8129</td>\n",
              "      <td>Mon Dec 01 19:43:51 +0000 2014</td>\n",
              "      <td>5.400000e+17</td>\n",
              "      <td>#AAPL OR @Apple</td>\n",
              "      <td>3\\n1</td>\n",
              "      <td>RT @JPDesloges: Why AAPL Stock Had a Mini-Flas...</td>\n",
              "    </tr>\n",
              "    <tr>\n",
              "      <th>2</th>\n",
              "      <td>623495515</td>\n",
              "      <td>True</td>\n",
              "      <td>golden</td>\n",
              "      <td>10</td>\n",
              "      <td>NaN</td>\n",
              "      <td>3</td>\n",
              "      <td>1.0000</td>\n",
              "      <td>Mon Dec 01 19:50:28 +0000 2014</td>\n",
              "      <td>5.400000e+17</td>\n",
              "      <td>#AAPL OR @Apple</td>\n",
              "      <td>3</td>\n",
              "      <td>My cat only chews @apple cords. Such an #Apple...</td>\n",
              "    </tr>\n",
              "    <tr>\n",
              "      <th>3</th>\n",
              "      <td>623495516</td>\n",
              "      <td>True</td>\n",
              "      <td>golden</td>\n",
              "      <td>17</td>\n",
              "      <td>NaN</td>\n",
              "      <td>3</td>\n",
              "      <td>0.5848</td>\n",
              "      <td>Mon Dec 01 20:26:34 +0000 2014</td>\n",
              "      <td>5.400000e+17</td>\n",
              "      <td>#AAPL OR @Apple</td>\n",
              "      <td>3\\n1</td>\n",
              "      <td>I agree with @jimcramer that the #IndividualIn...</td>\n",
              "    </tr>\n",
              "    <tr>\n",
              "      <th>4</th>\n",
              "      <td>623495517</td>\n",
              "      <td>False</td>\n",
              "      <td>finalized</td>\n",
              "      <td>3</td>\n",
              "      <td>12/12/14 12:14</td>\n",
              "      <td>3</td>\n",
              "      <td>0.6474</td>\n",
              "      <td>Mon Dec 01 20:29:33 +0000 2014</td>\n",
              "      <td>5.400000e+17</td>\n",
              "      <td>#AAPL OR @Apple</td>\n",
              "      <td>NaN</td>\n",
              "      <td>Nobody expects the Spanish Inquisition #AAPL</td>\n",
              "    </tr>\n",
              "  </tbody>\n",
              "</table>\n",
              "</div>\n",
              "      <button class=\"colab-df-convert\" onclick=\"convertToInteractive('df-7c8a8f72-cb1d-4ea6-b645-356755beffe2')\"\n",
              "              title=\"Convert this dataframe to an interactive table.\"\n",
              "              style=\"display:none;\">\n",
              "        \n",
              "  <svg xmlns=\"http://www.w3.org/2000/svg\" height=\"24px\"viewBox=\"0 0 24 24\"\n",
              "       width=\"24px\">\n",
              "    <path d=\"M0 0h24v24H0V0z\" fill=\"none\"/>\n",
              "    <path d=\"M18.56 5.44l.94 2.06.94-2.06 2.06-.94-2.06-.94-.94-2.06-.94 2.06-2.06.94zm-11 1L8.5 8.5l.94-2.06 2.06-.94-2.06-.94L8.5 2.5l-.94 2.06-2.06.94zm10 10l.94 2.06.94-2.06 2.06-.94-2.06-.94-.94-2.06-.94 2.06-2.06.94z\"/><path d=\"M17.41 7.96l-1.37-1.37c-.4-.4-.92-.59-1.43-.59-.52 0-1.04.2-1.43.59L10.3 9.45l-7.72 7.72c-.78.78-.78 2.05 0 2.83L4 21.41c.39.39.9.59 1.41.59.51 0 1.02-.2 1.41-.59l7.78-7.78 2.81-2.81c.8-.78.8-2.07 0-2.86zM5.41 20L4 18.59l7.72-7.72 1.47 1.35L5.41 20z\"/>\n",
              "  </svg>\n",
              "      </button>\n",
              "      \n",
              "  <style>\n",
              "    .colab-df-container {\n",
              "      display:flex;\n",
              "      flex-wrap:wrap;\n",
              "      gap: 12px;\n",
              "    }\n",
              "\n",
              "    .colab-df-convert {\n",
              "      background-color: #E8F0FE;\n",
              "      border: none;\n",
              "      border-radius: 50%;\n",
              "      cursor: pointer;\n",
              "      display: none;\n",
              "      fill: #1967D2;\n",
              "      height: 32px;\n",
              "      padding: 0 0 0 0;\n",
              "      width: 32px;\n",
              "    }\n",
              "\n",
              "    .colab-df-convert:hover {\n",
              "      background-color: #E2EBFA;\n",
              "      box-shadow: 0px 1px 2px rgba(60, 64, 67, 0.3), 0px 1px 3px 1px rgba(60, 64, 67, 0.15);\n",
              "      fill: #174EA6;\n",
              "    }\n",
              "\n",
              "    [theme=dark] .colab-df-convert {\n",
              "      background-color: #3B4455;\n",
              "      fill: #D2E3FC;\n",
              "    }\n",
              "\n",
              "    [theme=dark] .colab-df-convert:hover {\n",
              "      background-color: #434B5C;\n",
              "      box-shadow: 0px 1px 3px 1px rgba(0, 0, 0, 0.15);\n",
              "      filter: drop-shadow(0px 1px 2px rgba(0, 0, 0, 0.3));\n",
              "      fill: #FFFFFF;\n",
              "    }\n",
              "  </style>\n",
              "\n",
              "      <script>\n",
              "        const buttonEl =\n",
              "          document.querySelector('#df-7c8a8f72-cb1d-4ea6-b645-356755beffe2 button.colab-df-convert');\n",
              "        buttonEl.style.display =\n",
              "          google.colab.kernel.accessAllowed ? 'block' : 'none';\n",
              "\n",
              "        async function convertToInteractive(key) {\n",
              "          const element = document.querySelector('#df-7c8a8f72-cb1d-4ea6-b645-356755beffe2');\n",
              "          const dataTable =\n",
              "            await google.colab.kernel.invokeFunction('convertToInteractive',\n",
              "                                                     [key], {});\n",
              "          if (!dataTable) return;\n",
              "\n",
              "          const docLinkHtml = 'Like what you see? Visit the ' +\n",
              "            '<a target=\"_blank\" href=https://colab.research.google.com/notebooks/data_table.ipynb>data table notebook</a>'\n",
              "            + ' to learn more about interactive tables.';\n",
              "          element.innerHTML = '';\n",
              "          dataTable['output_type'] = 'display_data';\n",
              "          await google.colab.output.renderOutput(dataTable, element);\n",
              "          const docLink = document.createElement('div');\n",
              "          docLink.innerHTML = docLinkHtml;\n",
              "          element.appendChild(docLink);\n",
              "        }\n",
              "      </script>\n",
              "    </div>\n",
              "  </div>\n",
              "  "
            ]
          },
          "metadata": {},
          "execution_count": 4
        }
      ]
    },
    {
      "cell_type": "code",
      "source": [
        "#describe data\n",
        "df.describe()"
      ],
      "metadata": {
        "id": "6H3czRukBXrr",
        "colab": {
          "base_uri": "https://localhost:8080/",
          "height": 300
        },
        "outputId": "7055f47f-f298-4b73-b119-339e2bd36c11"
      },
      "execution_count": 5,
      "outputs": [
        {
          "output_type": "execute_result",
          "data": {
            "text/plain": [
              "           _unit_id  _trusted_judgments  sentiment:confidence            id\n",
              "count  3.886000e+03         3886.000000           3886.000000  3.886000e+03\n",
              "mean   6.234975e+08            3.687082              0.829526  5.410039e+17\n",
              "std    1.171906e+03            2.004595              0.175864  7.942752e+14\n",
              "min    6.234955e+08            3.000000              0.332700  5.400000e+17\n",
              "25%    6.234965e+08            3.000000              0.674475  5.400000e+17\n",
              "50%    6.234975e+08            3.000000              0.811250  5.410000e+17\n",
              "75%    6.234984e+08            3.000000              1.000000  5.420000e+17\n",
              "max    6.235173e+08           27.000000              1.000000  5.420000e+17"
            ],
            "text/html": [
              "\n",
              "  <div id=\"df-e3812d2b-1263-43b3-952b-726de0b9d8e6\">\n",
              "    <div class=\"colab-df-container\">\n",
              "      <div>\n",
              "<style scoped>\n",
              "    .dataframe tbody tr th:only-of-type {\n",
              "        vertical-align: middle;\n",
              "    }\n",
              "\n",
              "    .dataframe tbody tr th {\n",
              "        vertical-align: top;\n",
              "    }\n",
              "\n",
              "    .dataframe thead th {\n",
              "        text-align: right;\n",
              "    }\n",
              "</style>\n",
              "<table border=\"1\" class=\"dataframe\">\n",
              "  <thead>\n",
              "    <tr style=\"text-align: right;\">\n",
              "      <th></th>\n",
              "      <th>_unit_id</th>\n",
              "      <th>_trusted_judgments</th>\n",
              "      <th>sentiment:confidence</th>\n",
              "      <th>id</th>\n",
              "    </tr>\n",
              "  </thead>\n",
              "  <tbody>\n",
              "    <tr>\n",
              "      <th>count</th>\n",
              "      <td>3.886000e+03</td>\n",
              "      <td>3886.000000</td>\n",
              "      <td>3886.000000</td>\n",
              "      <td>3.886000e+03</td>\n",
              "    </tr>\n",
              "    <tr>\n",
              "      <th>mean</th>\n",
              "      <td>6.234975e+08</td>\n",
              "      <td>3.687082</td>\n",
              "      <td>0.829526</td>\n",
              "      <td>5.410039e+17</td>\n",
              "    </tr>\n",
              "    <tr>\n",
              "      <th>std</th>\n",
              "      <td>1.171906e+03</td>\n",
              "      <td>2.004595</td>\n",
              "      <td>0.175864</td>\n",
              "      <td>7.942752e+14</td>\n",
              "    </tr>\n",
              "    <tr>\n",
              "      <th>min</th>\n",
              "      <td>6.234955e+08</td>\n",
              "      <td>3.000000</td>\n",
              "      <td>0.332700</td>\n",
              "      <td>5.400000e+17</td>\n",
              "    </tr>\n",
              "    <tr>\n",
              "      <th>25%</th>\n",
              "      <td>6.234965e+08</td>\n",
              "      <td>3.000000</td>\n",
              "      <td>0.674475</td>\n",
              "      <td>5.400000e+17</td>\n",
              "    </tr>\n",
              "    <tr>\n",
              "      <th>50%</th>\n",
              "      <td>6.234975e+08</td>\n",
              "      <td>3.000000</td>\n",
              "      <td>0.811250</td>\n",
              "      <td>5.410000e+17</td>\n",
              "    </tr>\n",
              "    <tr>\n",
              "      <th>75%</th>\n",
              "      <td>6.234984e+08</td>\n",
              "      <td>3.000000</td>\n",
              "      <td>1.000000</td>\n",
              "      <td>5.420000e+17</td>\n",
              "    </tr>\n",
              "    <tr>\n",
              "      <th>max</th>\n",
              "      <td>6.235173e+08</td>\n",
              "      <td>27.000000</td>\n",
              "      <td>1.000000</td>\n",
              "      <td>5.420000e+17</td>\n",
              "    </tr>\n",
              "  </tbody>\n",
              "</table>\n",
              "</div>\n",
              "      <button class=\"colab-df-convert\" onclick=\"convertToInteractive('df-e3812d2b-1263-43b3-952b-726de0b9d8e6')\"\n",
              "              title=\"Convert this dataframe to an interactive table.\"\n",
              "              style=\"display:none;\">\n",
              "        \n",
              "  <svg xmlns=\"http://www.w3.org/2000/svg\" height=\"24px\"viewBox=\"0 0 24 24\"\n",
              "       width=\"24px\">\n",
              "    <path d=\"M0 0h24v24H0V0z\" fill=\"none\"/>\n",
              "    <path d=\"M18.56 5.44l.94 2.06.94-2.06 2.06-.94-2.06-.94-.94-2.06-.94 2.06-2.06.94zm-11 1L8.5 8.5l.94-2.06 2.06-.94-2.06-.94L8.5 2.5l-.94 2.06-2.06.94zm10 10l.94 2.06.94-2.06 2.06-.94-2.06-.94-.94-2.06-.94 2.06-2.06.94z\"/><path d=\"M17.41 7.96l-1.37-1.37c-.4-.4-.92-.59-1.43-.59-.52 0-1.04.2-1.43.59L10.3 9.45l-7.72 7.72c-.78.78-.78 2.05 0 2.83L4 21.41c.39.39.9.59 1.41.59.51 0 1.02-.2 1.41-.59l7.78-7.78 2.81-2.81c.8-.78.8-2.07 0-2.86zM5.41 20L4 18.59l7.72-7.72 1.47 1.35L5.41 20z\"/>\n",
              "  </svg>\n",
              "      </button>\n",
              "      \n",
              "  <style>\n",
              "    .colab-df-container {\n",
              "      display:flex;\n",
              "      flex-wrap:wrap;\n",
              "      gap: 12px;\n",
              "    }\n",
              "\n",
              "    .colab-df-convert {\n",
              "      background-color: #E8F0FE;\n",
              "      border: none;\n",
              "      border-radius: 50%;\n",
              "      cursor: pointer;\n",
              "      display: none;\n",
              "      fill: #1967D2;\n",
              "      height: 32px;\n",
              "      padding: 0 0 0 0;\n",
              "      width: 32px;\n",
              "    }\n",
              "\n",
              "    .colab-df-convert:hover {\n",
              "      background-color: #E2EBFA;\n",
              "      box-shadow: 0px 1px 2px rgba(60, 64, 67, 0.3), 0px 1px 3px 1px rgba(60, 64, 67, 0.15);\n",
              "      fill: #174EA6;\n",
              "    }\n",
              "\n",
              "    [theme=dark] .colab-df-convert {\n",
              "      background-color: #3B4455;\n",
              "      fill: #D2E3FC;\n",
              "    }\n",
              "\n",
              "    [theme=dark] .colab-df-convert:hover {\n",
              "      background-color: #434B5C;\n",
              "      box-shadow: 0px 1px 3px 1px rgba(0, 0, 0, 0.15);\n",
              "      filter: drop-shadow(0px 1px 2px rgba(0, 0, 0, 0.3));\n",
              "      fill: #FFFFFF;\n",
              "    }\n",
              "  </style>\n",
              "\n",
              "      <script>\n",
              "        const buttonEl =\n",
              "          document.querySelector('#df-e3812d2b-1263-43b3-952b-726de0b9d8e6 button.colab-df-convert');\n",
              "        buttonEl.style.display =\n",
              "          google.colab.kernel.accessAllowed ? 'block' : 'none';\n",
              "\n",
              "        async function convertToInteractive(key) {\n",
              "          const element = document.querySelector('#df-e3812d2b-1263-43b3-952b-726de0b9d8e6');\n",
              "          const dataTable =\n",
              "            await google.colab.kernel.invokeFunction('convertToInteractive',\n",
              "                                                     [key], {});\n",
              "          if (!dataTable) return;\n",
              "\n",
              "          const docLinkHtml = 'Like what you see? Visit the ' +\n",
              "            '<a target=\"_blank\" href=https://colab.research.google.com/notebooks/data_table.ipynb>data table notebook</a>'\n",
              "            + ' to learn more about interactive tables.';\n",
              "          element.innerHTML = '';\n",
              "          dataTable['output_type'] = 'display_data';\n",
              "          await google.colab.output.renderOutput(dataTable, element);\n",
              "          const docLink = document.createElement('div');\n",
              "          docLink.innerHTML = docLinkHtml;\n",
              "          element.appendChild(docLink);\n",
              "        }\n",
              "      </script>\n",
              "    </div>\n",
              "  </div>\n",
              "  "
            ]
          },
          "metadata": {},
          "execution_count": 5
        }
      ]
    },
    {
      "cell_type": "code",
      "source": [
        "#get shape\n",
        "df.shape"
      ],
      "metadata": {
        "id": "_kDyrPb45CQl",
        "colab": {
          "base_uri": "https://localhost:8080/"
        },
        "outputId": "12ea5063-021a-4c95-a747-fc639671cdc8"
      },
      "execution_count": 6,
      "outputs": [
        {
          "output_type": "execute_result",
          "data": {
            "text/plain": [
              "(3886, 12)"
            ]
          },
          "metadata": {},
          "execution_count": 6
        }
      ]
    },
    {
      "cell_type": "code",
      "source": [
        "#get data info\n",
        "df.info()"
      ],
      "metadata": {
        "id": "QKBosloRCCWl",
        "colab": {
          "base_uri": "https://localhost:8080/"
        },
        "outputId": "cf42e1f1-cd05-482e-dcaf-ac800db6ad9d"
      },
      "execution_count": 7,
      "outputs": [
        {
          "output_type": "stream",
          "name": "stdout",
          "text": [
            "<class 'pandas.core.frame.DataFrame'>\n",
            "RangeIndex: 3886 entries, 0 to 3885\n",
            "Data columns (total 12 columns):\n",
            " #   Column                Non-Null Count  Dtype  \n",
            "---  ------                --------------  -----  \n",
            " 0   _unit_id              3886 non-null   int64  \n",
            " 1   _golden               3886 non-null   bool   \n",
            " 2   _unit_state           3886 non-null   object \n",
            " 3   _trusted_judgments    3886 non-null   int64  \n",
            " 4   _last_judgment_at     3783 non-null   object \n",
            " 5   sentiment             3886 non-null   object \n",
            " 6   sentiment:confidence  3886 non-null   float64\n",
            " 7   date                  3886 non-null   object \n",
            " 8   id                    3886 non-null   float64\n",
            " 9   query                 3886 non-null   object \n",
            " 10  sentiment_gold        103 non-null    object \n",
            " 11  text                  3886 non-null   object \n",
            "dtypes: bool(1), float64(2), int64(2), object(7)\n",
            "memory usage: 337.9+ KB\n"
          ]
        }
      ]
    },
    {
      "cell_type": "code",
      "source": [
        "#check for missing values\n",
        "df.isnull().sum()"
      ],
      "metadata": {
        "id": "czdmktC3Cili",
        "colab": {
          "base_uri": "https://localhost:8080/"
        },
        "outputId": "000c1a5a-52a7-4646-ec1b-2428236328bc"
      },
      "execution_count": 8,
      "outputs": [
        {
          "output_type": "execute_result",
          "data": {
            "text/plain": [
              "_unit_id                   0\n",
              "_golden                    0\n",
              "_unit_state                0\n",
              "_trusted_judgments         0\n",
              "_last_judgment_at        103\n",
              "sentiment                  0\n",
              "sentiment:confidence       0\n",
              "date                       0\n",
              "id                         0\n",
              "query                      0\n",
              "sentiment_gold          3783\n",
              "text                       0\n",
              "dtype: int64"
            ]
          },
          "metadata": {},
          "execution_count": 8
        }
      ]
    },
    {
      "cell_type": "code",
      "source": [
        "#check for duplicates\n",
        "df.duplicated().sum()"
      ],
      "metadata": {
        "id": "tyJ5nBmw5J1N",
        "colab": {
          "base_uri": "https://localhost:8080/"
        },
        "outputId": "703a6ac5-3607-4015-9612-83a84f51d366"
      },
      "execution_count": 9,
      "outputs": [
        {
          "output_type": "execute_result",
          "data": {
            "text/plain": [
              "0"
            ]
          },
          "metadata": {},
          "execution_count": 9
        }
      ]
    },
    {
      "cell_type": "code",
      "source": [
        "#check \"sentiment\" values\n",
        "\n",
        "sns.set_style(\"ticks\")\n",
        "total = float(len(df))\n",
        "ax = sns.countplot(x=\"sentiment\", data=df, palette = \"Dark2\")\n",
        "for p in ax.patches:\n",
        "    percentage = '{:.1f}%'.format(100 * p.get_height()/total)\n",
        "    x = p.get_x() + p.get_width()\n",
        "    y = p.get_height()\n",
        "    ax.annotate(percentage, (x, y),ha='center')\n",
        "plt.show()"
      ],
      "metadata": {
        "id": "N_HjqF1KuCXn",
        "colab": {
          "base_uri": "https://localhost:8080/",
          "height": 280
        },
        "outputId": "d1dc9d1b-021a-4972-a558-7c4901734731"
      },
      "execution_count": 10,
      "outputs": [
        {
          "output_type": "display_data",
          "data": {
            "text/plain": [
              "<Figure size 432x288 with 1 Axes>"
            ],
            "image/png": "[encoded data removed]"
          },
          "metadata": {}
        }
      ]
    },
    {
      "cell_type": "markdown",
      "source": [
        "This is a look into the sentiment around Apple computers based on tweets containing #AAPL, @apple, etc.\n",
        "\n",
        "Tweets can be positive, neutral or negative.\n",
        "\n",
        "The task is to identify whether the tweet about Apple is positive, neutral or negative. (If the tweet isn't about Apple, let's assume the identification is neutral or not relevant).\n",
        "\n",
        "The sentiment values we have:\n",
        "\n",
        "1) Positive - 5;\n",
        "\n",
        "2) Neutral - 3;\n",
        "\n",
        "3) Negative - 1;\n",
        "\n",
        "4) Not Relevant - not_relevant."
      ],
      "metadata": {
        "id": "KvV6nO2G2R-R"
      }
    },
    {
      "cell_type": "code",
      "source": [
        "df.head()"
      ],
      "metadata": {
        "id": "35q2qSvev3lb",
        "colab": {
          "base_uri": "https://localhost:8080/",
          "height": 617
        },
        "outputId": "56f00424-633f-45be-e41d-c16d1eef5466"
      },
      "execution_count": 11,
      "outputs": [
        {
          "output_type": "execute_result",
          "data": {
            "text/plain": [
              "    _unit_id  _golden _unit_state  _trusted_judgments _last_judgment_at  \\\n",
              "0  623495513     True      golden                  10               NaN   \n",
              "1  623495514     True      golden                  12               NaN   \n",
              "2  623495515     True      golden                  10               NaN   \n",
              "3  623495516     True      golden                  17               NaN   \n",
              "4  623495517    False   finalized                   3    12/12/14 12:14   \n",
              "\n",
              "  sentiment  sentiment:confidence                            date  \\\n",
              "0         3                0.6264  Mon Dec 01 19:30:03 +0000 2014   \n",
              "1         3                0.8129  Mon Dec 01 19:43:51 +0000 2014   \n",
              "2         3                1.0000  Mon Dec 01 19:50:28 +0000 2014   \n",
              "3         3                0.5848  Mon Dec 01 20:26:34 +0000 2014   \n",
              "4         3                0.6474  Mon Dec 01 20:29:33 +0000 2014   \n",
              "\n",
              "             id            query   sentiment_gold  \\\n",
              "0  5.400000e+17  #AAPL OR @Apple  3\\nnot_relevant   \n",
              "1  5.400000e+17  #AAPL OR @Apple             3\\n1   \n",
              "2  5.400000e+17  #AAPL OR @Apple                3   \n",
              "3  5.400000e+17  #AAPL OR @Apple             3\\n1   \n",
              "4  5.400000e+17  #AAPL OR @Apple              NaN   \n",
              "\n",
              "                                                text  \n",
              "0  #AAPL:The 10 best Steve Jobs emails ever...htt...  \n",
              "1  RT @JPDesloges: Why AAPL Stock Had a Mini-Flas...  \n",
              "2  My cat only chews @apple cords. Such an #Apple...  \n",
              "3  I agree with @jimcramer that the #IndividualIn...  \n",
              "4       Nobody expects the Spanish Inquisition #AAPL  "
            ],
            "text/html": [
              "\n",
              "  <div id=\"df-01cd215c-4667-4345-95b3-a6d6e8c1fff6\">\n",
              "    <div class=\"colab-df-container\">\n",
              "      <div>\n",
              "<style scoped>\n",
              "    .dataframe tbody tr th:only-of-type {\n",
              "        vertical-align: middle;\n",
              "    }\n",
              "\n",
              "    .dataframe tbody tr th {\n",
              "        vertical-align: top;\n",
              "    }\n",
              "\n",
              "    .dataframe thead th {\n",
              "        text-align: right;\n",
              "    }\n",
              "</style>\n",
              "<table border=\"1\" class=\"dataframe\">\n",
              "  <thead>\n",
              "    <tr style=\"text-align: right;\">\n",
              "      <th></th>\n",
              "      <th>_unit_id</th>\n",
              "      <th>_golden</th>\n",
              "      <th>_unit_state</th>\n",
              "      <th>_trusted_judgments</th>\n",
              "      <th>_last_judgment_at</th>\n",
              "      <th>sentiment</th>\n",
              "      <th>sentiment:confidence</th>\n",
              "      <th>date</th>\n",
              "      <th>id</th>\n",
              "      <th>query</th>\n",
              "      <th>sentiment_gold</th>\n",
              "      <th>text</th>\n",
              "    </tr>\n",
              "  </thead>\n",
              "  <tbody>\n",
              "    <tr>\n",
              "      <th>0</th>\n",
              "      <td>623495513</td>\n",
              "      <td>True</td>\n",
              "      <td>golden</td>\n",
              "      <td>10</td>\n",
              "      <td>NaN</td>\n",
              "      <td>3</td>\n",
              "      <td>0.6264</td>\n",
              "      <td>Mon Dec 01 19:30:03 +0000 2014</td>\n",
              "      <td>5.400000e+17</td>\n",
              "      <td>#AAPL OR @Apple</td>\n",
              "      <td>3\\nnot_relevant</td>\n",
              "      <td>#AAPL:The 10 best Steve Jobs emails ever...htt...</td>\n",
              "    </tr>\n",
              "    <tr>\n",
              "      <th>1</th>\n",
              "      <td>623495514</td>\n",
              "      <td>True</td>\n",
              "      <td>golden</td>\n",
              "      <td>12</td>\n",
              "      <td>NaN</td>\n",
              "      <td>3</td>\n",
              "      <td>0.8129</td>\n",
              "      <td>Mon Dec 01 19:43:51 +0000 2014</td>\n",
              "      <td>5.400000e+17</td>\n",
              "      <td>#AAPL OR @Apple</td>\n",
              "      <td>3\\n1</td>\n",
              "      <td>RT @JPDesloges: Why AAPL Stock Had a Mini-Flas...</td>\n",
              "    </tr>\n",
              "    <tr>\n",
              "      <th>2</th>\n",
              "      <td>623495515</td>\n",
              "      <td>True</td>\n",
              "      <td>golden</td>\n",
              "      <td>10</td>\n",
              "      <td>NaN</td>\n",
              "      <td>3</td>\n",
              "      <td>1.0000</td>\n",
              "      <td>Mon Dec 01 19:50:28 +0000 2014</td>\n",
              "      <td>5.400000e+17</td>\n",
              "      <td>#AAPL OR @Apple</td>\n",
              "      <td>3</td>\n",
              "      <td>My cat only chews @apple cords. Such an #Apple...</td>\n",
              "    </tr>\n",
              "    <tr>\n",
              "      <th>3</th>\n",
              "      <td>623495516</td>\n",
              "      <td>True</td>\n",
              "      <td>golden</td>\n",
              "      <td>17</td>\n",
              "      <td>NaN</td>\n",
              "      <td>3</td>\n",
              "      <td>0.5848</td>\n",
              "      <td>Mon Dec 01 20:26:34 +0000 2014</td>\n",
              "      <td>5.400000e+17</td>\n",
              "      <td>#AAPL OR @Apple</td>\n",
              "      <td>3\\n1</td>\n",
              "      <td>I agree with @jimcramer that the #IndividualIn...</td>\n",
              "    </tr>\n",
              "    <tr>\n",
              "      <th>4</th>\n",
              "      <td>623495517</td>\n",
              "      <td>False</td>\n",
              "      <td>finalized</td>\n",
              "      <td>3</td>\n",
              "      <td>12/12/14 12:14</td>\n",
              "      <td>3</td>\n",
              "      <td>0.6474</td>\n",
              "      <td>Mon Dec 01 20:29:33 +0000 2014</td>\n",
              "      <td>5.400000e+17</td>\n",
              "      <td>#AAPL OR @Apple</td>\n",
              "      <td>NaN</td>\n",
              "      <td>Nobody expects the Spanish Inquisition #AAPL</td>\n",
              "    </tr>\n",
              "  </tbody>\n",
              "</table>\n",
              "</div>\n",
              "      <button class=\"colab-df-convert\" onclick=\"convertToInteractive('df-01cd215c-4667-4345-95b3-a6d6e8c1fff6')\"\n",
              "              title=\"Convert this dataframe to an interactive table.\"\n",
              "              style=\"display:none;\">\n",
              "        \n",
              "  <svg xmlns=\"http://www.w3.org/2000/svg\" height=\"24px\"viewBox=\"0 0 24 24\"\n",
              "       width=\"24px\">\n",
              "    <path d=\"M0 0h24v24H0V0z\" fill=\"none\"/>\n",
              "    <path d=\"M18.56 5.44l.94 2.06.94-2.06 2.06-.94-2.06-.94-.94-2.06-.94 2.06-2.06.94zm-11 1L8.5 8.5l.94-2.06 2.06-.94-2.06-.94L8.5 2.5l-.94 2.06-2.06.94zm10 10l.94 2.06.94-2.06 2.06-.94-2.06-.94-.94-2.06-.94 2.06-2.06.94z\"/><path d=\"M17.41 7.96l-1.37-1.37c-.4-.4-.92-.59-1.43-.59-.52 0-1.04.2-1.43.59L10.3 9.45l-7.72 7.72c-.78.78-.78 2.05 0 2.83L4 21.41c.39.39.9.59 1.41.59.51 0 1.02-.2 1.41-.59l7.78-7.78 2.81-2.81c.8-.78.8-2.07 0-2.86zM5.41 20L4 18.59l7.72-7.72 1.47 1.35L5.41 20z\"/>\n",
              "  </svg>\n",
              "      </button>\n",
              "      \n",
              "  <style>\n",
              "    .colab-df-container {\n",
              "      display:flex;\n",
              "      flex-wrap:wrap;\n",
              "      gap: 12px;\n",
              "    }\n",
              "\n",
              "    .colab-df-convert {\n",
              "      background-color: #E8F0FE;\n",
              "      border: none;\n",
              "      border-radius: 50%;\n",
              "      cursor: pointer;\n",
              "      display: none;\n",
              "      fill: #1967D2;\n",
              "      height: 32px;\n",
              "      padding: 0 0 0 0;\n",
              "      width: 32px;\n",
              "    }\n",
              "\n",
              "    .colab-df-convert:hover {\n",
              "      background-color: #E2EBFA;\n",
              "      box-shadow: 0px 1px 2px rgba(60, 64, 67, 0.3), 0px 1px 3px 1px rgba(60, 64, 67, 0.15);\n",
              "      fill: #174EA6;\n",
              "    }\n",
              "\n",
              "    [theme=dark] .colab-df-convert {\n",
              "      background-color: #3B4455;\n",
              "      fill: #D2E3FC;\n",
              "    }\n",
              "\n",
              "    [theme=dark] .colab-df-convert:hover {\n",
              "      background-color: #434B5C;\n",
              "      box-shadow: 0px 1px 3px 1px rgba(0, 0, 0, 0.15);\n",
              "      filter: drop-shadow(0px 1px 2px rgba(0, 0, 0, 0.3));\n",
              "      fill: #FFFFFF;\n",
              "    }\n",
              "  </style>\n",
              "\n",
              "      <script>\n",
              "        const buttonEl =\n",
              "          document.querySelector('#df-01cd215c-4667-4345-95b3-a6d6e8c1fff6 button.colab-df-convert');\n",
              "        buttonEl.style.display =\n",
              "          google.colab.kernel.accessAllowed ? 'block' : 'none';\n",
              "\n",
              "        async function convertToInteractive(key) {\n",
              "          const element = document.querySelector('#df-01cd215c-4667-4345-95b3-a6d6e8c1fff6');\n",
              "          const dataTable =\n",
              "            await google.colab.kernel.invokeFunction('convertToInteractive',\n",
              "                                                     [key], {});\n",
              "          if (!dataTable) return;\n",
              "\n",
              "          const docLinkHtml = 'Like what you see? Visit the ' +\n",
              "            '<a target=\"_blank\" href=https://colab.research.google.com/notebooks/data_table.ipynb>data table notebook</a>'\n",
              "            + ' to learn more about interactive tables.';\n",
              "          element.innerHTML = '';\n",
              "          dataTable['output_type'] = 'display_data';\n",
              "          await google.colab.output.renderOutput(dataTable, element);\n",
              "          const docLink = document.createElement('div');\n",
              "          docLink.innerHTML = docLinkHtml;\n",
              "          element.appendChild(docLink);\n",
              "        }\n",
              "      </script>\n",
              "    </div>\n",
              "  </div>\n",
              "  "
            ]
          },
          "metadata": {},
          "execution_count": 11
        }
      ]
    },
    {
      "cell_type": "code",
      "source": [
        "from datetime import datetime\n",
        "\n",
        "def clean_date(d):\n",
        "  return datetime.strptime(d, '%a %b %d %H:%M:%S +%f %Y').strftime('%Y-%m-%d')"
      ],
      "metadata": {
        "id": "Agic4jdb1ZBF"
      },
      "execution_count": 12,
      "outputs": []
    },
    {
      "cell_type": "code",
      "source": [
        "df['clean_date'] = df['date'].apply(clean_date)"
      ],
      "metadata": {
        "id": "MzBeyAdC6BkM"
      },
      "execution_count": 13,
      "outputs": []
    },
    {
      "cell_type": "code",
      "source": [
        "df.head()"
      ],
      "metadata": {
        "id": "JLKxU60l6cfi",
        "colab": {
          "base_uri": "https://localhost:8080/",
          "height": 617
        },
        "outputId": "465e3a6f-85ea-4e6b-c9d1-653684b410b3"
      },
      "execution_count": 14,
      "outputs": [
        {
          "output_type": "execute_result",
          "data": {
            "text/plain": [
              "    _unit_id  _golden _unit_state  _trusted_judgments _last_judgment_at  \\\n",
              "0  623495513     True      golden                  10               NaN   \n",
              "1  623495514     True      golden                  12               NaN   \n",
              "2  623495515     True      golden                  10               NaN   \n",
              "3  623495516     True      golden                  17               NaN   \n",
              "4  623495517    False   finalized                   3    12/12/14 12:14   \n",
              "\n",
              "  sentiment  sentiment:confidence                            date  \\\n",
              "0         3                0.6264  Mon Dec 01 19:30:03 +0000 2014   \n",
              "1         3                0.8129  Mon Dec 01 19:43:51 +0000 2014   \n",
              "2         3                1.0000  Mon Dec 01 19:50:28 +0000 2014   \n",
              "3         3                0.5848  Mon Dec 01 20:26:34 +0000 2014   \n",
              "4         3                0.6474  Mon Dec 01 20:29:33 +0000 2014   \n",
              "\n",
              "             id            query   sentiment_gold  \\\n",
              "0  5.400000e+17  #AAPL OR @Apple  3\\nnot_relevant   \n",
              "1  5.400000e+17  #AAPL OR @Apple             3\\n1   \n",
              "2  5.400000e+17  #AAPL OR @Apple                3   \n",
              "3  5.400000e+17  #AAPL OR @Apple             3\\n1   \n",
              "4  5.400000e+17  #AAPL OR @Apple              NaN   \n",
              "\n",
              "                                                text  clean_date  \n",
              "0  #AAPL:The 10 best Steve Jobs emails ever...htt...  2014-12-01  \n",
              "1  RT @JPDesloges: Why AAPL Stock Had a Mini-Flas...  2014-12-01  \n",
              "2  My cat only chews @apple cords. Such an #Apple...  2014-12-01  \n",
              "3  I agree with @jimcramer that the #IndividualIn...  2014-12-01  \n",
              "4       Nobody expects the Spanish Inquisition #AAPL  2014-12-01  "
            ],
            "text/html": [
              "\n",
              "  <div id=\"df-a1f1c3da-0711-4f1e-a312-c72e4c7ec383\">\n",
              "    <div class=\"colab-df-container\">\n",
              "      <div>\n",
              "<style scoped>\n",
              "    .dataframe tbody tr th:only-of-type {\n",
              "        vertical-align: middle;\n",
              "    }\n",
              "\n",
              "    .dataframe tbody tr th {\n",
              "        vertical-align: top;\n",
              "    }\n",
              "\n",
              "    .dataframe thead th {\n",
              "        text-align: right;\n",
              "    }\n",
              "</style>\n",
              "<table border=\"1\" class=\"dataframe\">\n",
              "  <thead>\n",
              "    <tr style=\"text-align: right;\">\n",
              "      <th></th>\n",
              "      <th>_unit_id</th>\n",
              "      <th>_golden</th>\n",
              "      <th>_unit_state</th>\n",
              "      <th>_trusted_judgments</th>\n",
              "      <th>_last_judgment_at</th>\n",
              "      <th>sentiment</th>\n",
              "      <th>sentiment:confidence</th>\n",
              "      <th>date</th>\n",
              "      <th>id</th>\n",
              "      <th>query</th>\n",
              "      <th>sentiment_gold</th>\n",
              "      <th>text</th>\n",
              "      <th>clean_date</th>\n",
              "    </tr>\n",
              "  </thead>\n",
              "  <tbody>\n",
              "    <tr>\n",
              "      <th>0</th>\n",
              "      <td>623495513</td>\n",
              "      <td>True</td>\n",
              "      <td>golden</td>\n",
              "      <td>10</td>\n",
              "      <td>NaN</td>\n",
              "      <td>3</td>\n",
              "      <td>0.6264</td>\n",
              "      <td>Mon Dec 01 19:30:03 +0000 2014</td>\n",
              "      <td>5.400000e+17</td>\n",
              "      <td>#AAPL OR @Apple</td>\n",
              "      <td>3\\nnot_relevant</td>\n",
              "      <td>#AAPL:The 10 best Steve Jobs emails ever...htt...</td>\n",
              "      <td>2014-12-01</td>\n",
              "    </tr>\n",
              "    <tr>\n",
              "      <th>1</th>\n",
              "      <td>623495514</td>\n",
              "      <td>True</td>\n",
              "      <td>golden</td>\n",
              "      <td>12</td>\n",
              "      <td>NaN</td>\n",
              "      <td>3</td>\n",
              "      <td>0.8129</td>\n",
              "      <td>Mon Dec 01 19:43:51 +0000 2014</td>\n",
              "      <td>5.400000e+17</td>\n",
              "      <td>#AAPL OR @Apple</td>\n",
              "      <td>3\\n1</td>\n",
              "      <td>RT @JPDesloges: Why AAPL Stock Had a Mini-Flas...</td>\n",
              "      <td>2014-12-01</td>\n",
              "    </tr>\n",
              "    <tr>\n",
              "      <th>2</th>\n",
              "      <td>623495515</td>\n",
              "      <td>True</td>\n",
              "      <td>golden</td>\n",
              "      <td>10</td>\n",
              "      <td>NaN</td>\n",
              "      <td>3</td>\n",
              "      <td>1.0000</td>\n",
              "      <td>Mon Dec 01 19:50:28 +0000 2014</td>\n",
              "      <td>5.400000e+17</td>\n",
              "      <td>#AAPL OR @Apple</td>\n",
              "      <td>3</td>\n",
              "      <td>My cat only chews @apple cords. Such an #Apple...</td>\n",
              "      <td>2014-12-01</td>\n",
              "    </tr>\n",
              "    <tr>\n",
              "      <th>3</th>\n",
              "      <td>623495516</td>\n",
              "      <td>True</td>\n",
              "      <td>golden</td>\n",
              "      <td>17</td>\n",
              "      <td>NaN</td>\n",
              "      <td>3</td>\n",
              "      <td>0.5848</td>\n",
              "      <td>Mon Dec 01 20:26:34 +0000 2014</td>\n",
              "      <td>5.400000e+17</td>\n",
              "      <td>#AAPL OR @Apple</td>\n",
              "      <td>3\\n1</td>\n",
              "      <td>I agree with @jimcramer that the #IndividualIn...</td>\n",
              "      <td>2014-12-01</td>\n",
              "    </tr>\n",
              "    <tr>\n",
              "      <th>4</th>\n",
              "      <td>623495517</td>\n",
              "      <td>False</td>\n",
              "      <td>finalized</td>\n",
              "      <td>3</td>\n",
              "      <td>12/12/14 12:14</td>\n",
              "      <td>3</td>\n",
              "      <td>0.6474</td>\n",
              "      <td>Mon Dec 01 20:29:33 +0000 2014</td>\n",
              "      <td>5.400000e+17</td>\n",
              "      <td>#AAPL OR @Apple</td>\n",
              "      <td>NaN</td>\n",
              "      <td>Nobody expects the Spanish Inquisition #AAPL</td>\n",
              "      <td>2014-12-01</td>\n",
              "    </tr>\n",
              "  </tbody>\n",
              "</table>\n",
              "</div>\n",
              "      <button class=\"colab-df-convert\" onclick=\"convertToInteractive('df-a1f1c3da-0711-4f1e-a312-c72e4c7ec383')\"\n",
              "              title=\"Convert this dataframe to an interactive table.\"\n",
              "              style=\"display:none;\">\n",
              "        \n",
              "  <svg xmlns=\"http://www.w3.org/2000/svg\" height=\"24px\"viewBox=\"0 0 24 24\"\n",
              "       width=\"24px\">\n",
              "    <path d=\"M0 0h24v24H0V0z\" fill=\"none\"/>\n",
              "    <path d=\"M18.56 5.44l.94 2.06.94-2.06 2.06-.94-2.06-.94-.94-2.06-.94 2.06-2.06.94zm-11 1L8.5 8.5l.94-2.06 2.06-.94-2.06-.94L8.5 2.5l-.94 2.06-2.06.94zm10 10l.94 2.06.94-2.06 2.06-.94-2.06-.94-.94-2.06-.94 2.06-2.06.94z\"/><path d=\"M17.41 7.96l-1.37-1.37c-.4-.4-.92-.59-1.43-.59-.52 0-1.04.2-1.43.59L10.3 9.45l-7.72 7.72c-.78.78-.78 2.05 0 2.83L4 21.41c.39.39.9.59 1.41.59.51 0 1.02-.2 1.41-.59l7.78-7.78 2.81-2.81c.8-.78.8-2.07 0-2.86zM5.41 20L4 18.59l7.72-7.72 1.47 1.35L5.41 20z\"/>\n",
              "  </svg>\n",
              "      </button>\n",
              "      \n",
              "  <style>\n",
              "    .colab-df-container {\n",
              "      display:flex;\n",
              "      flex-wrap:wrap;\n",
              "      gap: 12px;\n",
              "    }\n",
              "\n",
              "    .colab-df-convert {\n",
              "      background-color: #E8F0FE;\n",
              "      border: none;\n",
              "      border-radius: 50%;\n",
              "      cursor: pointer;\n",
              "      display: none;\n",
              "      fill: #1967D2;\n",
              "      height: 32px;\n",
              "      padding: 0 0 0 0;\n",
              "      width: 32px;\n",
              "    }\n",
              "\n",
              "    .colab-df-convert:hover {\n",
              "      background-color: #E2EBFA;\n",
              "      box-shadow: 0px 1px 2px rgba(60, 64, 67, 0.3), 0px 1px 3px 1px rgba(60, 64, 67, 0.15);\n",
              "      fill: #174EA6;\n",
              "    }\n",
              "\n",
              "    [theme=dark] .colab-df-convert {\n",
              "      background-color: #3B4455;\n",
              "      fill: #D2E3FC;\n",
              "    }\n",
              "\n",
              "    [theme=dark] .colab-df-convert:hover {\n",
              "      background-color: #434B5C;\n",
              "      box-shadow: 0px 1px 3px 1px rgba(0, 0, 0, 0.15);\n",
              "      filter: drop-shadow(0px 1px 2px rgba(0, 0, 0, 0.3));\n",
              "      fill: #FFFFFF;\n",
              "    }\n",
              "  </style>\n",
              "\n",
              "      <script>\n",
              "        const buttonEl =\n",
              "          document.querySelector('#df-a1f1c3da-0711-4f1e-a312-c72e4c7ec383 button.colab-df-convert');\n",
              "        buttonEl.style.display =\n",
              "          google.colab.kernel.accessAllowed ? 'block' : 'none';\n",
              "\n",
              "        async function convertToInteractive(key) {\n",
              "          const element = document.querySelector('#df-a1f1c3da-0711-4f1e-a312-c72e4c7ec383');\n",
              "          const dataTable =\n",
              "            await google.colab.kernel.invokeFunction('convertToInteractive',\n",
              "                                                     [key], {});\n",
              "          if (!dataTable) return;\n",
              "\n",
              "          const docLinkHtml = 'Like what you see? Visit the ' +\n",
              "            '<a target=\"_blank\" href=https://colab.research.google.com/notebooks/data_table.ipynb>data table notebook</a>'\n",
              "            + ' to learn more about interactive tables.';\n",
              "          element.innerHTML = '';\n",
              "          dataTable['output_type'] = 'display_data';\n",
              "          await google.colab.output.renderOutput(dataTable, element);\n",
              "          const docLink = document.createElement('div');\n",
              "          docLink.innerHTML = docLinkHtml;\n",
              "          element.appendChild(docLink);\n",
              "        }\n",
              "      </script>\n",
              "    </div>\n",
              "  </div>\n",
              "  "
            ]
          },
          "metadata": {},
          "execution_count": 14
        }
      ]
    },
    {
      "cell_type": "code",
      "source": [
        "df['clean_date'].value_counts()"
      ],
      "metadata": {
        "id": "-o1irnP675vB",
        "colab": {
          "base_uri": "https://localhost:8080/"
        },
        "outputId": "f4d2663b-d37f-42d2-df70-568c24d680d2"
      },
      "execution_count": 15,
      "outputs": [
        {
          "output_type": "execute_result",
          "data": {
            "text/plain": [
              "2014-12-04    703\n",
              "2014-12-09    622\n",
              "2014-12-02    529\n",
              "2014-12-05    524\n",
              "2014-12-03    499\n",
              "2014-12-08    465\n",
              "2014-12-06    296\n",
              "2014-12-07    223\n",
              "2014-12-01     24\n",
              "2014-12-10      1\n",
              "Name: clean_date, dtype: int64"
            ]
          },
          "metadata": {},
          "execution_count": 15
        }
      ]
    },
    {
      "cell_type": "code",
      "source": [
        "df.groupby(['clean_date'])['_unit_id'].count().plot(cmap=\"Dark2\",\n",
        "                                                    title = \"Number of Tweets Over Time\",\n",
        "                                                    xlabel = \"Date\",\n",
        "                                                    ylabel = \"Count\")\n",
        "plt.show()"
      ],
      "metadata": {
        "id": "UNd6ZQjtBsPs",
        "colab": {
          "base_uri": "https://localhost:8080/",
          "height": 295
        },
        "outputId": "37585d70-f2a5-4bea-aedb-e2e881e45514"
      },
      "execution_count": 16,
      "outputs": [
        {
          "output_type": "display_data",
          "data": {
            "text/plain": [
              "<Figure size 432x288 with 1 Axes>"
            ],
            "image/png": "[encoded data removed]"
          },
          "metadata": {}
        }
      ]
    },
    {
      "cell_type": "code",
      "source": [
        "df.groupby(['clean_date','sentiment'])['_unit_id'].count()"
      ],
      "metadata": {
        "id": "SpXEYJpG7CUX",
        "colab": {
          "base_uri": "https://localhost:8080/"
        },
        "outputId": "998f0f30-9340-4ff5-e7ae-4e9d59ac4db8"
      },
      "execution_count": 17,
      "outputs": [
        {
          "output_type": "execute_result",
          "data": {
            "text/plain": [
              "clean_date  sentiment   \n",
              "2014-12-01  1                 4\n",
              "            3                15\n",
              "            5                 3\n",
              "            not_relevant      2\n",
              "2014-12-02  1               168\n",
              "            3               295\n",
              "            5                52\n",
              "            not_relevant     14\n",
              "2014-12-03  1               172\n",
              "            3               263\n",
              "            5                51\n",
              "            not_relevant     13\n",
              "2014-12-04  1               195\n",
              "            3               420\n",
              "            5                78\n",
              "            not_relevant     10\n",
              "2014-12-05  1               148\n",
              "            3               309\n",
              "            5                55\n",
              "            not_relevant     12\n",
              "2014-12-06  1               137\n",
              "            3               123\n",
              "            5                30\n",
              "            not_relevant      6\n",
              "2014-12-07  1                92\n",
              "            3                98\n",
              "            5                27\n",
              "            not_relevant      6\n",
              "2014-12-08  1               158\n",
              "            3               236\n",
              "            5                59\n",
              "            not_relevant     12\n",
              "2014-12-09  1               144\n",
              "            3               403\n",
              "            5                68\n",
              "            not_relevant      7\n",
              "2014-12-10  1                 1\n",
              "Name: _unit_id, dtype: int64"
            ]
          },
          "metadata": {},
          "execution_count": 17
        }
      ]
    },
    {
      "cell_type": "code",
      "source": [
        "#visualize values over time\n",
        "pd.pivot_table(df.reset_index(),\n",
        "               index='clean_date', \n",
        "               columns='sentiment', \n",
        "               values = '_unit_id',\n",
        "               aggfunc = 'count').plot(subplots=True, \n",
        "                                       figsize = (10,15), \n",
        "                                       ylim = (0,440),\n",
        "                                       colormap = \"Dark2\",\n",
        "                                       title = \"Sentiment Values Over Time\",\n",
        "                                       xlabel = \"Date\",\n",
        "                                       ylabel = \"Count\")\n",
        "plt.show()"
      ],
      "metadata": {
        "id": "qeuYv4-I7dVj",
        "colab": {
          "base_uri": "https://localhost:8080/",
          "height": 985
        },
        "outputId": "422f741a-9a22-493c-91f9-a260be3f6b5a"
      },
      "execution_count": 18,
      "outputs": [
        {
          "output_type": "display_data",
          "data": {
            "text/plain": [
              "<Figure size 720x1080 with 4 Axes>"
            ],
            "image/png": "[encoded data removed]"
          },
          "metadata": {}
        }
      ]
    },
    {
      "cell_type": "code",
      "source": [
        "sns.countplot(x=\"_unit_state\", hue = \"sentiment\", data=df, palette = \"Dark2\")\n",
        "plt.title(\"Unit State by Sentiment\")\n",
        "plt.show()"
      ],
      "metadata": {
        "id": "EcHAzIUS-TD9",
        "colab": {
          "base_uri": "https://localhost:8080/",
          "height": 296
        },
        "outputId": "c0bfa0dd-4504-4700-d645-679ebcbaa8d8"
      },
      "execution_count": 19,
      "outputs": [
        {
          "output_type": "display_data",
          "data": {
            "text/plain": [
              "<Figure size 432x288 with 1 Axes>"
            ],
            "image/png": "[encoded data removed]"
          },
          "metadata": {}
        }
      ]
    },
    {
      "cell_type": "markdown",
      "source": [
        "#Data Cleaning For Models"
      ],
      "metadata": {
        "id": "DOpPOXgpWgMc"
      }
    },
    {
      "cell_type": "code",
      "source": [
        "df.columns"
      ],
      "metadata": {
        "id": "pOnsOi6YYAad",
        "colab": {
          "base_uri": "https://localhost:8080/"
        },
        "outputId": "36990d6e-1768-4da8-ec70-eb9df3e0ab8b"
      },
      "execution_count": 20,
      "outputs": [
        {
          "output_type": "execute_result",
          "data": {
            "text/plain": [
              "Index(['_unit_id', '_golden', '_unit_state', '_trusted_judgments',\n",
              "       '_last_judgment_at', 'sentiment', 'sentiment:confidence', 'date', 'id',\n",
              "       'query', 'sentiment_gold', 'text', 'clean_date'],\n",
              "      dtype='object')"
            ]
          },
          "metadata": {},
          "execution_count": 20
        }
      ]
    },
    {
      "cell_type": "code",
      "source": [
        "#Drop not not needed columns\n",
        "df_subset = df[['text','sentiment']]"
      ],
      "metadata": {
        "id": "WUA5DqrAXwZa"
      },
      "execution_count": 21,
      "outputs": []
    },
    {
      "cell_type": "code",
      "source": [
        "df_subset.head()"
      ],
      "metadata": {
        "id": "djosKVB6YWhW",
        "colab": {
          "base_uri": "https://localhost:8080/",
          "height": 206
        },
        "outputId": "bf98589d-6fdf-46bb-f70f-d1ab81971d48"
      },
      "execution_count": 22,
      "outputs": [
        {
          "output_type": "execute_result",
          "data": {
            "text/plain": [
              "                                                text sentiment\n",
              "0  #AAPL:The 10 best Steve Jobs emails ever...htt...         3\n",
              "1  RT @JPDesloges: Why AAPL Stock Had a Mini-Flas...         3\n",
              "2  My cat only chews @apple cords. Such an #Apple...         3\n",
              "3  I agree with @jimcramer that the #IndividualIn...         3\n",
              "4       Nobody expects the Spanish Inquisition #AAPL         3"
            ],
            "text/html": [
              "\n",
              "  <div id=\"df-f5cb95ac-552e-4c7e-bac8-344a70787905\">\n",
              "    <div class=\"colab-df-container\">\n",
              "      <div>\n",
              "<style scoped>\n",
              "    .dataframe tbody tr th:only-of-type {\n",
              "        vertical-align: middle;\n",
              "    }\n",
              "\n",
              "    .dataframe tbody tr th {\n",
              "        vertical-align: top;\n",
              "    }\n",
              "\n",
              "    .dataframe thead th {\n",
              "        text-align: right;\n",
              "    }\n",
              "</style>\n",
              "<table border=\"1\" class=\"dataframe\">\n",
              "  <thead>\n",
              "    <tr style=\"text-align: right;\">\n",
              "      <th></th>\n",
              "      <th>text</th>\n",
              "      <th>sentiment</th>\n",
              "    </tr>\n",
              "  </thead>\n",
              "  <tbody>\n",
              "    <tr>\n",
              "      <th>0</th>\n",
              "      <td>#AAPL:The 10 best Steve Jobs emails ever...htt...</td>\n",
              "      <td>3</td>\n",
              "    </tr>\n",
              "    <tr>\n",
              "      <th>1</th>\n",
              "      <td>RT @JPDesloges: Why AAPL Stock Had a Mini-Flas...</td>\n",
              "      <td>3</td>\n",
              "    </tr>\n",
              "    <tr>\n",
              "      <th>2</th>\n",
              "      <td>My cat only chews @apple cords. Such an #Apple...</td>\n",
              "      <td>3</td>\n",
              "    </tr>\n",
              "    <tr>\n",
              "      <th>3</th>\n",
              "      <td>I agree with @jimcramer that the #IndividualIn...</td>\n",
              "      <td>3</td>\n",
              "    </tr>\n",
              "    <tr>\n",
              "      <th>4</th>\n",
              "      <td>Nobody expects the Spanish Inquisition #AAPL</td>\n",
              "      <td>3</td>\n",
              "    </tr>\n",
              "  </tbody>\n",
              "</table>\n",
              "</div>\n",
              "      <button class=\"colab-df-convert\" onclick=\"convertToInteractive('df-f5cb95ac-552e-4c7e-bac8-344a70787905')\"\n",
              "              title=\"Convert this dataframe to an interactive table.\"\n",
              "              style=\"display:none;\">\n",
              "        \n",
              "  <svg xmlns=\"http://www.w3.org/2000/svg\" height=\"24px\"viewBox=\"0 0 24 24\"\n",
              "       width=\"24px\">\n",
              "    <path d=\"M0 0h24v24H0V0z\" fill=\"none\"/>\n",
              "    <path d=\"M18.56 5.44l.94 2.06.94-2.06 2.06-.94-2.06-.94-.94-2.06-.94 2.06-2.06.94zm-11 1L8.5 8.5l.94-2.06 2.06-.94-2.06-.94L8.5 2.5l-.94 2.06-2.06.94zm10 10l.94 2.06.94-2.06 2.06-.94-2.06-.94-.94-2.06-.94 2.06-2.06.94z\"/><path d=\"M17.41 7.96l-1.37-1.37c-.4-.4-.92-.59-1.43-.59-.52 0-1.04.2-1.43.59L10.3 9.45l-7.72 7.72c-.78.78-.78 2.05 0 2.83L4 21.41c.39.39.9.59 1.41.59.51 0 1.02-.2 1.41-.59l7.78-7.78 2.81-2.81c.8-.78.8-2.07 0-2.86zM5.41 20L4 18.59l7.72-7.72 1.47 1.35L5.41 20z\"/>\n",
              "  </svg>\n",
              "      </button>\n",
              "      \n",
              "  <style>\n",
              "    .colab-df-container {\n",
              "      display:flex;\n",
              "      flex-wrap:wrap;\n",
              "      gap: 12px;\n",
              "    }\n",
              "\n",
              "    .colab-df-convert {\n",
              "      background-color: #E8F0FE;\n",
              "      border: none;\n",
              "      border-radius: 50%;\n",
              "      cursor: pointer;\n",
              "      display: none;\n",
              "      fill: #1967D2;\n",
              "      height: 32px;\n",
              "      padding: 0 0 0 0;\n",
              "      width: 32px;\n",
              "    }\n",
              "\n",
              "    .colab-df-convert:hover {\n",
              "      background-color: #E2EBFA;\n",
              "      box-shadow: 0px 1px 2px rgba(60, 64, 67, 0.3), 0px 1px 3px 1px rgba(60, 64, 67, 0.15);\n",
              "      fill: #174EA6;\n",
              "    }\n",
              "\n",
              "    [theme=dark] .colab-df-convert {\n",
              "      background-color: #3B4455;\n",
              "      fill: #D2E3FC;\n",
              "    }\n",
              "\n",
              "    [theme=dark] .colab-df-convert:hover {\n",
              "      background-color: #434B5C;\n",
              "      box-shadow: 0px 1px 3px 1px rgba(0, 0, 0, 0.15);\n",
              "      filter: drop-shadow(0px 1px 2px rgba(0, 0, 0, 0.3));\n",
              "      fill: #FFFFFF;\n",
              "    }\n",
              "  </style>\n",
              "\n",
              "      <script>\n",
              "        const buttonEl =\n",
              "          document.querySelector('#df-f5cb95ac-552e-4c7e-bac8-344a70787905 button.colab-df-convert');\n",
              "        buttonEl.style.display =\n",
              "          google.colab.kernel.accessAllowed ? 'block' : 'none';\n",
              "\n",
              "        async function convertToInteractive(key) {\n",
              "          const element = document.querySelector('#df-f5cb95ac-552e-4c7e-bac8-344a70787905');\n",
              "          const dataTable =\n",
              "            await google.colab.kernel.invokeFunction('convertToInteractive',\n",
              "                                                     [key], {});\n",
              "          if (!dataTable) return;\n",
              "\n",
              "          const docLinkHtml = 'Like what you see? Visit the ' +\n",
              "            '<a target=\"_blank\" href=https://colab.research.google.com/notebooks/data_table.ipynb>data table notebook</a>'\n",
              "            + ' to learn more about interactive tables.';\n",
              "          element.innerHTML = '';\n",
              "          dataTable['output_type'] = 'display_data';\n",
              "          await google.colab.output.renderOutput(dataTable, element);\n",
              "          const docLink = document.createElement('div');\n",
              "          docLink.innerHTML = docLinkHtml;\n",
              "          element.appendChild(docLink);\n",
              "        }\n",
              "      </script>\n",
              "    </div>\n",
              "  </div>\n",
              "  "
            ]
          },
          "metadata": {},
          "execution_count": 22
        }
      ]
    },
    {
      "cell_type": "code",
      "source": [
        "df_subset.head()"
      ],
      "metadata": {
        "id": "_IMBu8GCd-yB",
        "colab": {
          "base_uri": "https://localhost:8080/",
          "height": 206
        },
        "outputId": "f86c9ad6-cbd7-4e1e-e66c-dc8b1f98ebb1"
      },
      "execution_count": 23,
      "outputs": [
        {
          "output_type": "execute_result",
          "data": {
            "text/plain": [
              "                                                text sentiment\n",
              "0  #AAPL:The 10 best Steve Jobs emails ever...htt...         3\n",
              "1  RT @JPDesloges: Why AAPL Stock Had a Mini-Flas...         3\n",
              "2  My cat only chews @apple cords. Such an #Apple...         3\n",
              "3  I agree with @jimcramer that the #IndividualIn...         3\n",
              "4       Nobody expects the Spanish Inquisition #AAPL         3"
            ],
            "text/html": [
              "\n",
              "  <div id=\"df-0a460a18-e7d4-46fb-89ec-33d3d314b9d1\">\n",
              "    <div class=\"colab-df-container\">\n",
              "      <div>\n",
              "<style scoped>\n",
              "    .dataframe tbody tr th:only-of-type {\n",
              "        vertical-align: middle;\n",
              "    }\n",
              "\n",
              "    .dataframe tbody tr th {\n",
              "        vertical-align: top;\n",
              "    }\n",
              "\n",
              "    .dataframe thead th {\n",
              "        text-align: right;\n",
              "    }\n",
              "</style>\n",
              "<table border=\"1\" class=\"dataframe\">\n",
              "  <thead>\n",
              "    <tr style=\"text-align: right;\">\n",
              "      <th></th>\n",
              "      <th>text</th>\n",
              "      <th>sentiment</th>\n",
              "    </tr>\n",
              "  </thead>\n",
              "  <tbody>\n",
              "    <tr>\n",
              "      <th>0</th>\n",
              "      <td>#AAPL:The 10 best Steve Jobs emails ever...htt...</td>\n",
              "      <td>3</td>\n",
              "    </tr>\n",
              "    <tr>\n",
              "      <th>1</th>\n",
              "      <td>RT @JPDesloges: Why AAPL Stock Had a Mini-Flas...</td>\n",
              "      <td>3</td>\n",
              "    </tr>\n",
              "    <tr>\n",
              "      <th>2</th>\n",
              "      <td>My cat only chews @apple cords. Such an #Apple...</td>\n",
              "      <td>3</td>\n",
              "    </tr>\n",
              "    <tr>\n",
              "      <th>3</th>\n",
              "      <td>I agree with @jimcramer that the #IndividualIn...</td>\n",
              "      <td>3</td>\n",
              "    </tr>\n",
              "    <tr>\n",
              "      <th>4</th>\n",
              "      <td>Nobody expects the Spanish Inquisition #AAPL</td>\n",
              "      <td>3</td>\n",
              "    </tr>\n",
              "  </tbody>\n",
              "</table>\n",
              "</div>\n",
              "      <button class=\"colab-df-convert\" onclick=\"convertToInteractive('df-0a460a18-e7d4-46fb-89ec-33d3d314b9d1')\"\n",
              "              title=\"Convert this dataframe to an interactive table.\"\n",
              "              style=\"display:none;\">\n",
              "        \n",
              "  <svg xmlns=\"http://www.w3.org/2000/svg\" height=\"24px\"viewBox=\"0 0 24 24\"\n",
              "       width=\"24px\">\n",
              "    <path d=\"M0 0h24v24H0V0z\" fill=\"none\"/>\n",
              "    <path d=\"M18.56 5.44l.94 2.06.94-2.06 2.06-.94-2.06-.94-.94-2.06-.94 2.06-2.06.94zm-11 1L8.5 8.5l.94-2.06 2.06-.94-2.06-.94L8.5 2.5l-.94 2.06-2.06.94zm10 10l.94 2.06.94-2.06 2.06-.94-2.06-.94-.94-2.06-.94 2.06-2.06.94z\"/><path d=\"M17.41 7.96l-1.37-1.37c-.4-.4-.92-.59-1.43-.59-.52 0-1.04.2-1.43.59L10.3 9.45l-7.72 7.72c-.78.78-.78 2.05 0 2.83L4 21.41c.39.39.9.59 1.41.59.51 0 1.02-.2 1.41-.59l7.78-7.78 2.81-2.81c.8-.78.8-2.07 0-2.86zM5.41 20L4 18.59l7.72-7.72 1.47 1.35L5.41 20z\"/>\n",
              "  </svg>\n",
              "      </button>\n",
              "      \n",
              "  <style>\n",
              "    .colab-df-container {\n",
              "      display:flex;\n",
              "      flex-wrap:wrap;\n",
              "      gap: 12px;\n",
              "    }\n",
              "\n",
              "    .colab-df-convert {\n",
              "      background-color: #E8F0FE;\n",
              "      border: none;\n",
              "      border-radius: 50%;\n",
              "      cursor: pointer;\n",
              "      display: none;\n",
              "      fill: #1967D2;\n",
              "      height: 32px;\n",
              "      padding: 0 0 0 0;\n",
              "      width: 32px;\n",
              "    }\n",
              "\n",
              "    .colab-df-convert:hover {\n",
              "      background-color: #E2EBFA;\n",
              "      box-shadow: 0px 1px 2px rgba(60, 64, 67, 0.3), 0px 1px 3px 1px rgba(60, 64, 67, 0.15);\n",
              "      fill: #174EA6;\n",
              "    }\n",
              "\n",
              "    [theme=dark] .colab-df-convert {\n",
              "      background-color: #3B4455;\n",
              "      fill: #D2E3FC;\n",
              "    }\n",
              "\n",
              "    [theme=dark] .colab-df-convert:hover {\n",
              "      background-color: #434B5C;\n",
              "      box-shadow: 0px 1px 3px 1px rgba(0, 0, 0, 0.15);\n",
              "      filter: drop-shadow(0px 1px 2px rgba(0, 0, 0, 0.3));\n",
              "      fill: #FFFFFF;\n",
              "    }\n",
              "  </style>\n",
              "\n",
              "      <script>\n",
              "        const buttonEl =\n",
              "          document.querySelector('#df-0a460a18-e7d4-46fb-89ec-33d3d314b9d1 button.colab-df-convert');\n",
              "        buttonEl.style.display =\n",
              "          google.colab.kernel.accessAllowed ? 'block' : 'none';\n",
              "\n",
              "        async function convertToInteractive(key) {\n",
              "          const element = document.querySelector('#df-0a460a18-e7d4-46fb-89ec-33d3d314b9d1');\n",
              "          const dataTable =\n",
              "            await google.colab.kernel.invokeFunction('convertToInteractive',\n",
              "                                                     [key], {});\n",
              "          if (!dataTable) return;\n",
              "\n",
              "          const docLinkHtml = 'Like what you see? Visit the ' +\n",
              "            '<a target=\"_blank\" href=https://colab.research.google.com/notebooks/data_table.ipynb>data table notebook</a>'\n",
              "            + ' to learn more about interactive tables.';\n",
              "          element.innerHTML = '';\n",
              "          dataTable['output_type'] = 'display_data';\n",
              "          await google.colab.output.renderOutput(dataTable, element);\n",
              "          const docLink = document.createElement('div');\n",
              "          docLink.innerHTML = docLinkHtml;\n",
              "          element.appendChild(docLink);\n",
              "        }\n",
              "      </script>\n",
              "    </div>\n",
              "  </div>\n",
              "  "
            ]
          },
          "metadata": {},
          "execution_count": 23
        }
      ]
    },
    {
      "cell_type": "code",
      "source": [
        "df_subset['sentiment'].unique()"
      ],
      "metadata": {
        "id": "izedErKNYZa1",
        "colab": {
          "base_uri": "https://localhost:8080/"
        },
        "outputId": "c479ff4a-922a-4466-d124-7fb7de436fa8"
      },
      "execution_count": 24,
      "outputs": [
        {
          "output_type": "execute_result",
          "data": {
            "text/plain": [
              "array(['3', '5', '1', 'not_relevant'], dtype=object)"
            ]
          },
          "metadata": {},
          "execution_count": 24
        }
      ]
    },
    {
      "cell_type": "code",
      "source": [
        "#drop row entries that contain \"not_relevant\"\n",
        "df_subset = df_subset[df_subset['sentiment'] != \"not_relevant\"]\n",
        "df_subset['sentiment'].unique()"
      ],
      "metadata": {
        "id": "kgW1fZ6edyu2",
        "colab": {
          "base_uri": "https://localhost:8080/"
        },
        "outputId": "3ab71f64-f017-42a4-c0da-a591f9e832db"
      },
      "execution_count": 25,
      "outputs": [
        {
          "output_type": "execute_result",
          "data": {
            "text/plain": [
              "array(['3', '5', '1'], dtype=object)"
            ]
          },
          "metadata": {},
          "execution_count": 25
        }
      ]
    },
    {
      "cell_type": "code",
      "source": [
        "df_subset.shape"
      ],
      "metadata": {
        "id": "XVWa-AdWen5s",
        "colab": {
          "base_uri": "https://localhost:8080/"
        },
        "outputId": "8e949401-840b-402e-97e6-0bcb9f150339"
      },
      "execution_count": 26,
      "outputs": [
        {
          "output_type": "execute_result",
          "data": {
            "text/plain": [
              "(3804, 2)"
            ]
          },
          "metadata": {},
          "execution_count": 26
        }
      ]
    },
    {
      "cell_type": "markdown",
      "source": [
        "1) Positive - 5; Convert to 2\n",
        "\n",
        "2) Neutral - 3; Convert to 1\n",
        "\n",
        "3) Negative - 1; Convert to 0"
      ],
      "metadata": {
        "id": "UUNw6eppev89"
      }
    },
    {
      "cell_type": "code",
      "source": [
        "#replace values to ease understanding\n",
        "value_dict = {\"1\":0,\"3\":1,\"5\":2}\n",
        "df_subset[\"sentiment\"] = df_subset[\"sentiment\"].map(value_dict)\n",
        "df_subset.head()"
      ],
      "metadata": {
        "id": "Dqj8PzvkfW6b",
        "colab": {
          "base_uri": "https://localhost:8080/",
          "height": 313
        },
        "outputId": "71cbc1ac-9647-4eb1-c7d4-d4dd5d8ce302"
      },
      "execution_count": 27,
      "outputs": [
        {
          "output_type": "stream",
          "name": "stderr",
          "text": [
            "<ipython-input-27-3aca3d3fdbb6>:3: SettingWithCopyWarning: \n",
            "A value is trying to be set on a copy of a slice from a DataFrame.\n",
            "Try using .loc[row_indexer,col_indexer] = value instead\n",
            "\n",
            "See the caveats in the documentation: https://pandas.pydata.org/pandas-docs/stable/user_guide/indexing.html#returning-a-view-versus-a-copy\n",
            "  df_subset[\"sentiment\"] = df_subset[\"sentiment\"].map(value_dict)\n"
          ]
        },
        {
          "output_type": "execute_result",
          "data": {
            "text/plain": [
              "                                                text  sentiment\n",
              "0  #AAPL:The 10 best Steve Jobs emails ever...htt...          1\n",
              "1  RT @JPDesloges: Why AAPL Stock Had a Mini-Flas...          1\n",
              "2  My cat only chews @apple cords. Such an #Apple...          1\n",
              "3  I agree with @jimcramer that the #IndividualIn...          1\n",
              "4       Nobody expects the Spanish Inquisition #AAPL          1"
            ],
            "text/html": [
              "\n",
              "  <div id=\"df-6900b2df-5585-4222-bde0-480742c831c4\">\n",
              "    <div class=\"colab-df-container\">\n",
              "      <div>\n",
              "<style scoped>\n",
              "    .dataframe tbody tr th:only-of-type {\n",
              "        vertical-align: middle;\n",
              "    }\n",
              "\n",
              "    .dataframe tbody tr th {\n",
              "        vertical-align: top;\n",
              "    }\n",
              "\n",
              "    .dataframe thead th {\n",
              "        text-align: right;\n",
              "    }\n",
              "</style>\n",
              "<table border=\"1\" class=\"dataframe\">\n",
              "  <thead>\n",
              "    <tr style=\"text-align: right;\">\n",
              "      <th></th>\n",
              "      <th>text</th>\n",
              "      <th>sentiment</th>\n",
              "    </tr>\n",
              "  </thead>\n",
              "  <tbody>\n",
              "    <tr>\n",
              "      <th>0</th>\n",
              "      <td>#AAPL:The 10 best Steve Jobs emails ever...htt...</td>\n",
              "      <td>1</td>\n",
              "    </tr>\n",
              "    <tr>\n",
              "      <th>1</th>\n",
              "      <td>RT @JPDesloges: Why AAPL Stock Had a Mini-Flas...</td>\n",
              "      <td>1</td>\n",
              "    </tr>\n",
              "    <tr>\n",
              "      <th>2</th>\n",
              "      <td>My cat only chews @apple cords. Such an #Apple...</td>\n",
              "      <td>1</td>\n",
              "    </tr>\n",
              "    <tr>\n",
              "      <th>3</th>\n",
              "      <td>I agree with @jimcramer that the #IndividualIn...</td>\n",
              "      <td>1</td>\n",
              "    </tr>\n",
              "    <tr>\n",
              "      <th>4</th>\n",
              "      <td>Nobody expects the Spanish Inquisition #AAPL</td>\n",
              "      <td>1</td>\n",
              "    </tr>\n",
              "  </tbody>\n",
              "</table>\n",
              "</div>\n",
              "      <button class=\"colab-df-convert\" onclick=\"convertToInteractive('df-6900b2df-5585-4222-bde0-480742c831c4')\"\n",
              "              title=\"Convert this dataframe to an interactive table.\"\n",
              "              style=\"display:none;\">\n",
              "        \n",
              "  <svg xmlns=\"http://www.w3.org/2000/svg\" height=\"24px\"viewBox=\"0 0 24 24\"\n",
              "       width=\"24px\">\n",
              "    <path d=\"M0 0h24v24H0V0z\" fill=\"none\"/>\n",
              "    <path d=\"M18.56 5.44l.94 2.06.94-2.06 2.06-.94-2.06-.94-.94-2.06-.94 2.06-2.06.94zm-11 1L8.5 8.5l.94-2.06 2.06-.94-2.06-.94L8.5 2.5l-.94 2.06-2.06.94zm10 10l.94 2.06.94-2.06 2.06-.94-2.06-.94-.94-2.06-.94 2.06-2.06.94z\"/><path d=\"M17.41 7.96l-1.37-1.37c-.4-.4-.92-.59-1.43-.59-.52 0-1.04.2-1.43.59L10.3 9.45l-7.72 7.72c-.78.78-.78 2.05 0 2.83L4 21.41c.39.39.9.59 1.41.59.51 0 1.02-.2 1.41-.59l7.78-7.78 2.81-2.81c.8-.78.8-2.07 0-2.86zM5.41 20L4 18.59l7.72-7.72 1.47 1.35L5.41 20z\"/>\n",
              "  </svg>\n",
              "      </button>\n",
              "      \n",
              "  <style>\n",
              "    .colab-df-container {\n",
              "      display:flex;\n",
              "      flex-wrap:wrap;\n",
              "      gap: 12px;\n",
              "    }\n",
              "\n",
              "    .colab-df-convert {\n",
              "      background-color: #E8F0FE;\n",
              "      border: none;\n",
              "      border-radius: 50%;\n",
              "      cursor: pointer;\n",
              "      display: none;\n",
              "      fill: #1967D2;\n",
              "      height: 32px;\n",
              "      padding: 0 0 0 0;\n",
              "      width: 32px;\n",
              "    }\n",
              "\n",
              "    .colab-df-convert:hover {\n",
              "      background-color: #E2EBFA;\n",
              "      box-shadow: 0px 1px 2px rgba(60, 64, 67, 0.3), 0px 1px 3px 1px rgba(60, 64, 67, 0.15);\n",
              "      fill: #174EA6;\n",
              "    }\n",
              "\n",
              "    [theme=dark] .colab-df-convert {\n",
              "      background-color: #3B4455;\n",
              "      fill: #D2E3FC;\n",
              "    }\n",
              "\n",
              "    [theme=dark] .colab-df-convert:hover {\n",
              "      background-color: #434B5C;\n",
              "      box-shadow: 0px 1px 3px 1px rgba(0, 0, 0, 0.15);\n",
              "      filter: drop-shadow(0px 1px 2px rgba(0, 0, 0, 0.3));\n",
              "      fill: #FFFFFF;\n",
              "    }\n",
              "  </style>\n",
              "\n",
              "      <script>\n",
              "        const buttonEl =\n",
              "          document.querySelector('#df-6900b2df-5585-4222-bde0-480742c831c4 button.colab-df-convert');\n",
              "        buttonEl.style.display =\n",
              "          google.colab.kernel.accessAllowed ? 'block' : 'none';\n",
              "\n",
              "        async function convertToInteractive(key) {\n",
              "          const element = document.querySelector('#df-6900b2df-5585-4222-bde0-480742c831c4');\n",
              "          const dataTable =\n",
              "            await google.colab.kernel.invokeFunction('convertToInteractive',\n",
              "                                                     [key], {});\n",
              "          if (!dataTable) return;\n",
              "\n",
              "          const docLinkHtml = 'Like what you see? Visit the ' +\n",
              "            '<a target=\"_blank\" href=https://colab.research.google.com/notebooks/data_table.ipynb>data table notebook</a>'\n",
              "            + ' to learn more about interactive tables.';\n",
              "          element.innerHTML = '';\n",
              "          dataTable['output_type'] = 'display_data';\n",
              "          await google.colab.output.renderOutput(dataTable, element);\n",
              "          const docLink = document.createElement('div');\n",
              "          docLink.innerHTML = docLinkHtml;\n",
              "          element.appendChild(docLink);\n",
              "        }\n",
              "      </script>\n",
              "    </div>\n",
              "  </div>\n",
              "  "
            ]
          },
          "metadata": {},
          "execution_count": 27
        }
      ]
    },
    {
      "cell_type": "code",
      "source": [
        "df_subset['sentiment'].unique()"
      ],
      "metadata": {
        "id": "6RXVmfp7gOcM",
        "colab": {
          "base_uri": "https://localhost:8080/"
        },
        "outputId": "780b8b64-200a-481f-ec7f-4bdbeef45ef7"
      },
      "execution_count": 28,
      "outputs": [
        {
          "output_type": "execute_result",
          "data": {
            "text/plain": [
              "array([1, 2, 0])"
            ]
          },
          "metadata": {},
          "execution_count": 28
        }
      ]
    },
    {
      "cell_type": "code",
      "source": [
        "df_subset['sentiment'].dtype"
      ],
      "metadata": {
        "id": "3VlRwb2Xj4CC",
        "colab": {
          "base_uri": "https://localhost:8080/"
        },
        "outputId": "5932d873-37c8-4ff9-c798-f413903a27cf"
      },
      "execution_count": 29,
      "outputs": [
        {
          "output_type": "execute_result",
          "data": {
            "text/plain": [
              "dtype('int64')"
            ]
          },
          "metadata": {},
          "execution_count": 29
        }
      ]
    },
    {
      "cell_type": "code",
      "source": [
        "df_subset.head()"
      ],
      "metadata": {
        "id": "YGePYGvfj7vX",
        "colab": {
          "base_uri": "https://localhost:8080/",
          "height": 206
        },
        "outputId": "03526946-05b3-4de2-ff89-a5faee5f189c"
      },
      "execution_count": 30,
      "outputs": [
        {
          "output_type": "execute_result",
          "data": {
            "text/plain": [
              "                                                text  sentiment\n",
              "0  #AAPL:The 10 best Steve Jobs emails ever...htt...          1\n",
              "1  RT @JPDesloges: Why AAPL Stock Had a Mini-Flas...          1\n",
              "2  My cat only chews @apple cords. Such an #Apple...          1\n",
              "3  I agree with @jimcramer that the #IndividualIn...          1\n",
              "4       Nobody expects the Spanish Inquisition #AAPL          1"
            ],
            "text/html": [
              "\n",
              "  <div id=\"df-1f886b10-e07b-4b8c-96e8-0606b913310b\">\n",
              "    <div class=\"colab-df-container\">\n",
              "      <div>\n",
              "<style scoped>\n",
              "    .dataframe tbody tr th:only-of-type {\n",
              "        vertical-align: middle;\n",
              "    }\n",
              "\n",
              "    .dataframe tbody tr th {\n",
              "        vertical-align: top;\n",
              "    }\n",
              "\n",
              "    .dataframe thead th {\n",
              "        text-align: right;\n",
              "    }\n",
              "</style>\n",
              "<table border=\"1\" class=\"dataframe\">\n",
              "  <thead>\n",
              "    <tr style=\"text-align: right;\">\n",
              "      <th></th>\n",
              "      <th>text</th>\n",
              "      <th>sentiment</th>\n",
              "    </tr>\n",
              "  </thead>\n",
              "  <tbody>\n",
              "    <tr>\n",
              "      <th>0</th>\n",
              "      <td>#AAPL:The 10 best Steve Jobs emails ever...htt...</td>\n",
              "      <td>1</td>\n",
              "    </tr>\n",
              "    <tr>\n",
              "      <th>1</th>\n",
              "      <td>RT @JPDesloges: Why AAPL Stock Had a Mini-Flas...</td>\n",
              "      <td>1</td>\n",
              "    </tr>\n",
              "    <tr>\n",
              "      <th>2</th>\n",
              "      <td>My cat only chews @apple cords. Such an #Apple...</td>\n",
              "      <td>1</td>\n",
              "    </tr>\n",
              "    <tr>\n",
              "      <th>3</th>\n",
              "      <td>I agree with @jimcramer that the #IndividualIn...</td>\n",
              "      <td>1</td>\n",
              "    </tr>\n",
              "    <tr>\n",
              "      <th>4</th>\n",
              "      <td>Nobody expects the Spanish Inquisition #AAPL</td>\n",
              "      <td>1</td>\n",
              "    </tr>\n",
              "  </tbody>\n",
              "</table>\n",
              "</div>\n",
              "      <button class=\"colab-df-convert\" onclick=\"convertToInteractive('df-1f886b10-e07b-4b8c-96e8-0606b913310b')\"\n",
              "              title=\"Convert this dataframe to an interactive table.\"\n",
              "              style=\"display:none;\">\n",
              "        \n",
              "  <svg xmlns=\"http://www.w3.org/2000/svg\" height=\"24px\"viewBox=\"0 0 24 24\"\n",
              "       width=\"24px\">\n",
              "    <path d=\"M0 0h24v24H0V0z\" fill=\"none\"/>\n",
              "    <path d=\"M18.56 5.44l.94 2.06.94-2.06 2.06-.94-2.06-.94-.94-2.06-.94 2.06-2.06.94zm-11 1L8.5 8.5l.94-2.06 2.06-.94-2.06-.94L8.5 2.5l-.94 2.06-2.06.94zm10 10l.94 2.06.94-2.06 2.06-.94-2.06-.94-.94-2.06-.94 2.06-2.06.94z\"/><path d=\"M17.41 7.96l-1.37-1.37c-.4-.4-.92-.59-1.43-.59-.52 0-1.04.2-1.43.59L10.3 9.45l-7.72 7.72c-.78.78-.78 2.05 0 2.83L4 21.41c.39.39.9.59 1.41.59.51 0 1.02-.2 1.41-.59l7.78-7.78 2.81-2.81c.8-.78.8-2.07 0-2.86zM5.41 20L4 18.59l7.72-7.72 1.47 1.35L5.41 20z\"/>\n",
              "  </svg>\n",
              "      </button>\n",
              "      \n",
              "  <style>\n",
              "    .colab-df-container {\n",
              "      display:flex;\n",
              "      flex-wrap:wrap;\n",
              "      gap: 12px;\n",
              "    }\n",
              "\n",
              "    .colab-df-convert {\n",
              "      background-color: #E8F0FE;\n",
              "      border: none;\n",
              "      border-radius: 50%;\n",
              "      cursor: pointer;\n",
              "      display: none;\n",
              "      fill: #1967D2;\n",
              "      height: 32px;\n",
              "      padding: 0 0 0 0;\n",
              "      width: 32px;\n",
              "    }\n",
              "\n",
              "    .colab-df-convert:hover {\n",
              "      background-color: #E2EBFA;\n",
              "      box-shadow: 0px 1px 2px rgba(60, 64, 67, 0.3), 0px 1px 3px 1px rgba(60, 64, 67, 0.15);\n",
              "      fill: #174EA6;\n",
              "    }\n",
              "\n",
              "    [theme=dark] .colab-df-convert {\n",
              "      background-color: #3B4455;\n",
              "      fill: #D2E3FC;\n",
              "    }\n",
              "\n",
              "    [theme=dark] .colab-df-convert:hover {\n",
              "      background-color: #434B5C;\n",
              "      box-shadow: 0px 1px 3px 1px rgba(0, 0, 0, 0.15);\n",
              "      filter: drop-shadow(0px 1px 2px rgba(0, 0, 0, 0.3));\n",
              "      fill: #FFFFFF;\n",
              "    }\n",
              "  </style>\n",
              "\n",
              "      <script>\n",
              "        const buttonEl =\n",
              "          document.querySelector('#df-1f886b10-e07b-4b8c-96e8-0606b913310b button.colab-df-convert');\n",
              "        buttonEl.style.display =\n",
              "          google.colab.kernel.accessAllowed ? 'block' : 'none';\n",
              "\n",
              "        async function convertToInteractive(key) {\n",
              "          const element = document.querySelector('#df-1f886b10-e07b-4b8c-96e8-0606b913310b');\n",
              "          const dataTable =\n",
              "            await google.colab.kernel.invokeFunction('convertToInteractive',\n",
              "                                                     [key], {});\n",
              "          if (!dataTable) return;\n",
              "\n",
              "          const docLinkHtml = 'Like what you see? Visit the ' +\n",
              "            '<a target=\"_blank\" href=https://colab.research.google.com/notebooks/data_table.ipynb>data table notebook</a>'\n",
              "            + ' to learn more about interactive tables.';\n",
              "          element.innerHTML = '';\n",
              "          dataTable['output_type'] = 'display_data';\n",
              "          await google.colab.output.renderOutput(dataTable, element);\n",
              "          const docLink = document.createElement('div');\n",
              "          docLink.innerHTML = docLinkHtml;\n",
              "          element.appendChild(docLink);\n",
              "        }\n",
              "      </script>\n",
              "    </div>\n",
              "  </div>\n",
              "  "
            ]
          },
          "metadata": {},
          "execution_count": 30
        }
      ]
    },
    {
      "cell_type": "code",
      "source": [
        "# Storing data in lists.\n",
        "text, sentiment = list(df_subset['text']), list(df_subset['sentiment'])"
      ],
      "metadata": {
        "id": "FlyEcGnvkCxB"
      },
      "execution_count": 31,
      "outputs": []
    },
    {
      "cell_type": "code",
      "source": [
        "# emojis with their meanings.\n",
        "emojis = {':)': 'smile', ':-)': 'smile', ';d': 'wink', ':-E': 'vampire', ':(': 'sad', \n",
        "          ':-(': 'sad', ':-<': 'sad', ':P': 'raspberry', ':O': 'surprised',\n",
        "          ':-@': 'shocked', ':@': 'shocked',':-$': 'confused', ':\\\\': 'annoyed', \n",
        "          ':#': 'mute', ':X': 'mute', ':^)': 'smile', ':-&': 'confused', '$_$': 'greedy',\n",
        "          '@@': 'eyeroll', ':-!': 'confused', ':-D': 'smile', ':-0': 'yell', 'O.o': 'confused',\n",
        "          '<(-_-)>': 'robot', 'd[-_-]b': 'dj', \":'-)\": 'sadsmile', ';)': 'wink', \n",
        "          ';-)': 'wink', 'O:-)': 'angel','O*-)': 'angel','(:-D': 'gossip', '=^.^=': 'cat'}"
      ],
      "metadata": {
        "id": "tw4y-ZVcvEcz"
      },
      "execution_count": 32,
      "outputs": []
    },
    {
      "cell_type": "code",
      "source": [
        "#list of stop words\n",
        "stopwords = ['a', 'about', 'above', 'after', 'again', 'ain', 'all', 'am', 'an',\n",
        "             'and','any','are', 'as', 'at', 'be', 'because', 'been', 'before',\n",
        "             'being', 'below', 'between','both', 'by', 'can', 'd', 'did', 'do',\n",
        "             'does', 'doing', 'down', 'during', 'each','few', 'for', 'from', \n",
        "             'further', 'had', 'has', 'have', 'having', 'he', 'her', 'here',\n",
        "             'hers', 'herself', 'him', 'himself', 'his', 'how', 'i', 'if', 'in',\n",
        "             'into','is', 'it', 'its', 'itself', 'just', 'll', 'm', 'ma',\n",
        "             'me', 'more', 'most','my', 'myself', 'now', 'o', 'of', 'on', 'once',\n",
        "             'only', 'or', 'other', 'our', 'ours','ourselves', 'out', 'own', 're',\n",
        "             's', 'same', 'she', \"shes\", 'should', \"shouldve\",'so', 'some', 'such',\n",
        "             't', 'than', 'that', \"thatll\", 'the', 'their', 'theirs', 'them',\n",
        "             'themselves', 'then', 'there', 'these', 'they', 'this', 'those', \n",
        "             'through', 'to', 'too','under', 'until', 'up', 've', 'very', 'was',\n",
        "             'we', 'were', 'what', 'when', 'where','which','while', 'who', 'whom',\n",
        "             'why', 'will', 'with', 'won', 'y', 'you', \"youd\",\"youll\", \"youre\",\n",
        "             \"youve\", 'your', 'yours', 'yourself', 'yourselves']"
      ],
      "metadata": {
        "id": "65zfN6OzvLAf"
      },
      "execution_count": 33,
      "outputs": []
    },
    {
      "cell_type": "markdown",
      "source": [
        "Lemmatization is the process of grouping together the different inflected forms of a word so they can be analyzed as a single item. Lemmatization is similar to stemming but it brings context to the words. So it links words with similar meanings to one word. \n",
        "Text preprocessing includes both Stemming as well as Lemmatization. Many times people find these two terms confusing. Some treat these two as the same. Actually, lemmatization is preferred over Stemming because lemmatization does morphological analysis of the words.\n",
        "\n",
        "Applications of lemmatization are: \n",
        "- Used in comprehensive retrieval systems like search engines.\n",
        "- Used in compact indexing\n",
        "\n",
        "Examples:\n",
        "- better: good\n",
        "- rocks: rock  \n",
        "\n",
        "https://www.geeksforgeeks.org/python-lemmatization-with-nltk/ "
      ],
      "metadata": {
        "id": "zASCNXpCc8-1"
      }
    },
    {
      "cell_type": "code",
      "source": [
        "lemmatizer = WordNetLemmatizer()\n",
        "\n",
        "def preprocess(textdata):\n",
        "    processed_texts = []\n",
        "\n",
        "    # Defining regex patterns.\n",
        "    url_pattern = r\"((http://)[^ ]*|(https://)[^ ]*|( www\\.)[^ ]*)\"\n",
        "    user_pattern = '@[^\\s]+'\n",
        "    alpha_pattern = \"[^a-zA-Z0-9]\"\n",
        "    sequence_pattern = r\"(.)\\1\\1+\"\n",
        "    seq_replace_pattern = r\"\\1\\1\"\n",
        "\n",
        "    for tweet in textdata:\n",
        "        tweet = tweet.lower()\n",
        "\n",
        "        # Replace all URls with 'URL'\n",
        "        tweet = re.sub(url_pattern, ' URL', tweet)\n",
        "        # Replace all emojis.\n",
        "        for emoji in emojis.keys():\n",
        "            tweet = tweet.replace(emoji, \"EMOJI\" + emojis[emoji])\n",
        "            # Replace @USERNAME to 'USER'.\n",
        "        tweet = re.sub(user_pattern, ' USER', tweet)\n",
        "        # Replace all non alphabets.\n",
        "        tweet = re.sub(alpha_pattern, \" \", tweet)\n",
        "        # Replace 3 or more consecutive letters by 2 letter.\n",
        "        tweet = re.sub(sequence_pattern, seq_replace_pattern, tweet)\n",
        "\n",
        "        preprocessed_words = []\n",
        "        for word in tweet.split():\n",
        "            # Check if the word is a stopword.\n",
        "            if len(word) > 1 and word not in stopwords:\n",
        "                # Lemmatizing the word.\n",
        "                word = lemmatizer.lemmatize(word)\n",
        "                preprocessed_words.append(word)\n",
        "\n",
        "        processed_texts.append(' '.join(preprocessed_words))\n",
        "\n",
        "    return processed_texts"
      ],
      "metadata": {
        "id": "1fCTpsE_vRtf"
      },
      "execution_count": 34,
      "outputs": []
    },
    {
      "cell_type": "code",
      "source": [
        "processedtext = preprocess(text)"
      ],
      "metadata": {
        "id": "_YzEYXf50rOU"
      },
      "execution_count": 35,
      "outputs": []
    },
    {
      "cell_type": "code",
      "source": [
        "processedtext"
      ],
      "metadata": {
        "id": "hDNzDHCC0r_B",
        "colab": {
          "base_uri": "https://localhost:8080/"
        },
        "outputId": "c9a53001-0b03-48bf-d157-87bc6b208d9b"
      },
      "execution_count": 36,
      "outputs": [
        {
          "output_type": "execute_result",
          "data": {
            "text/plain": [
              "['aapl 10 best steve job email ever URL',\n",
              " 'rt USER aapl stock mini flash crash today aapl aapl URL',\n",
              " 'cat chew USER cord applesnob',\n",
              " 'agree USER individualinvestor not trade apple aapl extended today pullback good see',\n",
              " 'nobody expects spanish inquisition aapl',\n",
              " 'aapl rocket stock buy december gain apple URL',\n",
              " 'top USER tablet damn right URL',\n",
              " 'cnbctv apple margin better expected aapl URL',\n",
              " 'apple inc flash crash need know URL aapl',\n",
              " 'aapl presentation show make world biggest tech company URL',\n",
              " 'wtf battery 31 one second ago 29 wtf USER',\n",
              " 'apple watch top search engine list best wearable tech URL aapl iwatch applewatch',\n",
              " 'best designed iphone apps world according USER URL URL',\n",
              " 'rt USER bought USER USER store pretty good logo match wait install URL',\n",
              " 'USER contact sync yosemite ios8 seriously screwed used much stable past icloud isync',\n",
              " 'aapl USER thanks non factual dumb twitter follower stock drop point one minute thanks dummy rumor',\n",
              " 'warning buy iphone 5 unlocked USER iphone cannot use verizon network',\n",
              " 'USER thanks xtra checkin upper westside store but appointment running almost 50 minute late',\n",
              " 'aapl stock mini flash crash today money morning nothing analyst suggested would make widel URL',\n",
              " 'jh hines staff newly issued USER connected macbook ipad mini txed URL',\n",
              " 'USER need ip portfolio defend against big company look USER USER court battle',\n",
              " 'USER love gawd center damn calendar app fixed back off center URL',\n",
              " 'get storage almost full notification literally every minute chill USER',\n",
              " 'made switch iphone galaxy note edge USER keep URL',\n",
              " 'rt USER stand ppl USER sticker everywhere 10 prob bought ipod shuffle',\n",
              " 'justice department cite 18th century federal law get USER unlock iphones URL',\n",
              " 'latest apple product leading efficiency URL USER iphone ipad plugloads',\n",
              " 'rt USER justice department cite 18th century federal law get USER unlock iphones URL',\n",
              " 'good huge rt USER justice department cite 18th century federal law get USER unlock iphones URL',\n",
              " 'USER USER cite 4th amendment retort',\n",
              " 'rt USER justice department cite 18th century federal law get USER unlock iphones URL',\n",
              " 'rt USER USER USER thanks thinking upgrading',\n",
              " 'rt USER justice department cite 18th century federal law get USER unlock iphones URL',\n",
              " 'way stay relevant rt USER justice department cite 18th century federal law get USER unlock iphones URL',\n",
              " 'apple inc flash crash need know URL aapl',\n",
              " 'URL help using apple iphone6 amp iphone6plus checkitout USER USER URL',\n",
              " 'rt USER justice department cite 18th century federal law get USER unlock iphones URL',\n",
              " 'flash crash really screwed lot trader today not im determined ever make trading work aapl',\n",
              " 'rt USER jh hines staff newly issued USER connected macbook ipad mini txed URL txed',\n",
              " 'nigga update yall headphone USER',\n",
              " 'rt USER justice department cite 18th century federal law get USER unlock iphones URL',\n",
              " 'rt USER justice department cite 18th century federal law get USER unlock iphones URL',\n",
              " 'ok USER win use browser anymore since keep closing literally time today counted',\n",
              " 'rt USER justice department cite 18th century federal law get USER unlock iphones URL',\n",
              " 'USER USER cite u constitution judge cannot pas law violation separation power',\n",
              " 'USER need get ur fucking shit together let txt youtube',\n",
              " 'USER USER wish could prosecute admin violation privacy criminal search seizure',\n",
              " 'rt USER justice department cite 18th century federal law get USER unlock iphones URL',\n",
              " 'USER USER furthermore no provision secrecy constitution activity sedition u gov',\n",
              " 'aapl apple dropped URL',\n",
              " 'one chart explains USER affect USER paint interesting story think URL',\n",
              " 'rt USER justice department cite 18th century federal law get USER unlock iphones URL',\n",
              " 'rt USER justice department cite 18th century federal law get USER unlock iphones URL',\n",
              " 'final aapl putcallratios monday december 2014 URL',\n",
              " 'aapl launch red apple logo world aid day dec world aid day red apple logo abl URL',\n",
              " 'hey USER fuck',\n",
              " 'company growing faster apple inc URL aapl',\n",
              " 'USER doesn people explain precaution buying expensive laptop',\n",
              " 'rt USER justice department cite 18th century federal law get USER unlock iphones URL',\n",
              " 'USER USER bored huh',\n",
              " 'rt USER USER need ip portfolio defend against big company look USER USER court battle',\n",
              " 'die hard USER customer must say truly displeased customer service given today badservice apple',\n",
              " 'USER made clear today customer not worth measly 79 employee gave mi info not stand behind',\n",
              " 'inspi red USER USER worldaidsday 100 appsforred USER go fight aid get USER USER USER',\n",
              " 'rt USER justice department cite 18th century federal law get USER unlock iphones URL',\n",
              " '16gb USER ipad air retina wifi tablet 400 free shipping via ebay URL cybermonday firstworldproblems',\n",
              " 'photo love io USER USER love ios8 nocrop iphone young phone screen capturescream boy URL',\n",
              " 'USER force people use vpn built ios8 off button doesn work ffs like want apple nsa data collection service',\n",
              " 'hell take screenshot USER USER URL',\n",
              " 'rt USER department cite 18th century federal law get USER unlock iphones URL',\n",
              " 'rt USER justice department cite 18th century federal law get USER unlock iphones URL',\n",
              " 'buy round lot open mt USER aapl stock briefly dove today analyst not sure URL URL',\n",
              " '3g draining battery fix USER',\n",
              " 'USER charger suck as love break',\n",
              " 'rt USER justice department cite 18th century federal law get USER unlock iphones URL',\n",
              " 'aapl three horseman nasdaq 100 apple microsoft gilead scie URL',\n",
              " 'rt USER justice department cite 18th century federal law get USER unlock iphones URL',\n",
              " 'hoping USER automatically make u download bruce springsteen u2 singing together u2 bruce espn thatwasbad',\n",
              " 'USER USER joke justice dept prosecute killer wilson pursuit justice ferguson not over',\n",
              " 'USER USER please educate u',\n",
              " 'rt USER USER USER wish could prosecute admin violation privacy criminal search seizure',\n",
              " 'game trader play name market liquidity hft darkpools stock trading algorithm aapl URL',\n",
              " 'aapl 10 steve job email need read URL',\n",
              " 'soo annoyed restore back lost voice mail needed keep thanks lot USER',\n",
              " 'thisn yosemite update stressing USER macbookpro',\n",
              " 'broke 3rd charger month get shit together USER',\n",
              " 'iphone battery isn good claim USER',\n",
              " 'nasdaq big fall USER USER USER USER USER fell monday see whether follow',\n",
              " 'iphone user face big change over USER apple google search choice monday december URL',\n",
              " 'rt USER USER USER please educate u',\n",
              " 'updated ram 16gb USER guy like shallow gf take money but dammit look good',\n",
              " 'USER USER oh not fair think really mean',\n",
              " 'whoknew isn USER twitter URL interestingfact passingthetime',\n",
              " 'rt USER whoknew isn USER twitter URL interestingfact passingthetime',\n",
              " 'ibm USER io user account 21 online sale 3x USER user dominating business sale cybermonday',\n",
              " 'hate io capitalizes random word like dont wanna give emphasis stupid word tha sentence get ur self together USER',\n",
              " 'USER made clear support rand paul 2016 case everyone pigeonholed red blue also like USER',\n",
              " 'USER iphone ever created',\n",
              " 'USER fucking hate URL',\n",
              " 'USER please new phone christmas spreadsomejoy',\n",
              " 'perfome USER pie URL',\n",
              " 'nasdaq100 recent market exit sold aapl long 10 49 gain 20 day aapl forex trading stock',\n",
              " 'USER rumoured launching mega tab biggerisbetter URL',\n",
              " 'apple inc pt upped barclays morgan stanley trim stake URL aapl',\n",
              " 'not like app cost money let download USER',\n",
              " 'rt USER new ha blog post gt gt gt final aapl putcallratios monday december 2014 URL',\n",
              " 'aapl jim cramer best stock pick health care sector URL',\n",
              " 'phone charging hour but keep losing percentage get ur shit together USER',\n",
              " 'steve job clave en juicio contra USER URL URL',\n",
              " 'rt USER steve job clave en juicio contra USER URL URL',\n",
              " 'rt USER steve job clave en juicio contra USER URL URL',\n",
              " 'laptop completely dead blacked day amp finally opened inside fixed hire USER',\n",
              " 'USER USER couldn even get turkey tday don care appleemojissuck',\n",
              " 'rt USER steve job clave en juicio contra USER URL URL',\n",
              " 'rt USER phone charging hour but keep losing percentage get ur shit together USER',\n",
              " 'apple nasdaq aapl participates world aid day campaign URL apple aapl campaign URL',\n",
              " 'well played USER URL',\n",
              " 'thank USER',\n",
              " 'fix USER URL',\n",
              " 'rt USER thank USER',\n",
              " 'long really take phone ship USER smh',\n",
              " 'USER ipod lawsuit reveal unseen steve job video URL',\n",
              " 'rt USER USER ipod lawsuit reveal unseen steve job video URL',\n",
              " 'lol dying USER URL',\n",
              " 'iphone5 USER health kit no longer gathering data sigh',\n",
              " 'trade aapl free nightly update posted twitter visit trade aapl free website URL',\n",
              " 'thanks USER changing yet another fuck duck thanks',\n",
              " 'USER yh news apple tumble much percent unusual trading chuck mikolajczak new york reuters URL',\n",
              " 'USER cause fuck USER',\n",
              " 'rt USER brass band USER store broadway winterseve nyc URL',\n",
              " 'buy 16 gb phone 16 gb use USER',\n",
              " 'fuck breaking music USER',\n",
              " 'rt USER brass band USER store broadway winterseve nyc URL',\n",
              " 'apple inc ipad sale peaked aapl URL',\n",
              " 'rt USER brass band USER store broadway winterseve nyc URL',\n",
              " 'barclay apple analyst join crowd increase price target forbes aapl URL',\n",
              " 'need USER come charger cord keep charge amp don fall apart URL',\n",
              " 'rt USER able forward voicemail isn thing USER',\n",
              " 'USER USER speak humanity want chose contact added contact book facebook thanks',\n",
              " 'USER h8 everything',\n",
              " 'USER ur disgrace',\n",
              " 'USER want picture back',\n",
              " 'phone acid right USER fix',\n",
              " 'USER power cord problem warranty said would fine isn replace URL',\n",
              " 'USER normal use no abuse wrapped exactly instructed fire hazard replace defective',\n",
              " 'USER btw love product rock power cord junk seriously need fix',\n",
              " 'rt USER brass band USER store broadway winterseve nyc URL',\n",
              " 'rt USER justice department cite 18th century federal law get USER unlock iphones URL',\n",
              " 'yo USER fix shitty imessage',\n",
              " 'aapl rt USER apple share repurchase benefited shareholder 80 billion URL',\n",
              " 'even apple watch delayed raising aapl price target 165 URL aapl alex cho',\n",
              " 'love USER USER amp USER earned 200 mile blackfriday sale freemoney centsability cybermonday',\n",
              " 'yo USER auto correct shit gotta stop changing shit right send',\n",
              " 'first USER logo designed co founder ronald wayne drawing isaac newton reading book apple tree',\n",
              " 'pick slack fuck boy USER',\n",
              " 'USER maybe good product but never better USER macbook air fact',\n",
              " 'fucking faggot USER',\n",
              " 'USER course not mother fucking',\n",
              " 'apple inc store logo turn red world aid day URL aapl',\n",
              " 'fuck kinda gay shit print fucking ketosis USER',\n",
              " 'game USER bitch really trying tonight rt USER USER gam night gawd',\n",
              " 'apple ceo tim cook come gay USER URL via USER',\n",
              " 'rt USER USER need get ur fucking shit together let txt youtube',\n",
              " 'USER USER buy version let alone version actually like star war USER stupid lame starwars',\n",
              " 'USER USER perhaps le malleable metal shell iphone6splus noticedsomecurve',\n",
              " 'macbook pro 13 non retina first startup URL via USER USER macbook macbookpro startup hipster',\n",
              " 'macbook pro 13in unboxing URL via USER USER macbook macbookpro startup hipster unboxing',\n",
              " 'ipad mini unboxing URL via USER USER ipadmini ipad macbook macbookpro startup hipster unboxing',\n",
              " 'ipad mini first time startup URL via USER USER ipadmini ipad macbook macbookpro startup hipster unbox',\n",
              " 'USER ipod doe',\n",
              " 'USER drop audio rendition requirement io apps user hate no store want platform don know',\n",
              " 'none happy USER mac o yosemite file vault boot camp right thankful USER',\n",
              " 'iphone6s emerge spring 2015 USER apple watch tuesday december URL',\n",
              " 'apps USER ipodtouch5thgen URL URL',\n",
              " 'demand tapatio emoji USER',\n",
              " 'apps USER ipodtouch5thgen URL URL',\n",
              " 'aapl call america free christmas tesco cut cost relaunch URL',\n",
              " 'second time aapl page ate edits 700bn amateur fail iwantjobsback',\n",
              " 'feel lost phone EMOJIsad USER iphone charger horrendous brokenchargerprobs',\n",
              " 'aapl apple head trial over digital music claim URL',\n",
              " 'excellent news houseofcards s3 USER 27 wonder yosemite amp wifi talking USER USER wks',\n",
              " 'USER laptop burning leg say',\n",
              " 'USER USER USER USER great news hope wifi get sorted though',\n",
              " 'secret life steve job 46 second motivation late ceo USER URL',\n",
              " '10 best stevejobs apple aapl tech30 URL via',\n",
              " 'USER make feel sad rood USER',\n",
              " 'hate USER earphone bad world think good idea URL URL',\n",
              " 'USER USER need reinstall apple ipad',\n",
              " 'USER salut USER photo URL',\n",
              " 'macbook pro 13 non retina first startup URL via USER USER macbook macbookpro startup hipster',\n",
              " 'macbook pro 13in unboxing URL via USER USER macbook macbookpro startup hipster unboxing',\n",
              " 'ipad mini unboxing URL via USER USER ipadmini ipad macbook macbookpro startup hipster unboxing',\n",
              " 'ipad mini first time startup URL via USER USER ipadmini ipad macbook macbookpro startup hipster unbox',\n",
              " 'smartphone tablet become home automation hub wireless protocol beat wifi bluetooth USER homekit USER flic',\n",
              " 'option outlook amid heavy week economic event URL aapl goog googl tsla wmt premarket market',\n",
              " 'dying fast phone fuck USER',\n",
              " 'USER USER fix',\n",
              " 'said don talk politics but take anymr still post USER USER others but need change',\n",
              " 'anybody know use macbook pro retina u keyboard thank much USER macbook pro apple keyboard',\n",
              " 'best guest behind apple rapid stock price decline yesterday algorithmic trading 40bn wiped off automatic computer trade aapl',\n",
              " 'USER awarded patent augmented reality device transparent display URL URL',\n",
              " 'USER apple iphone USER iphone4s iphone4problems someone fucking help someone work apple fucking help ur job cunt',\n",
              " 'wtf USER synching note icloud page unusable used easier',\n",
              " 'nasdaq100 recent market exit sold aapl long 10 49 gain 20 day aapl forex trading stock',\n",
              " 'hey USER fuck let change store',\n",
              " 'write huge fuck USER not letting make reservation get laptop fixed',\n",
              " 'apple tumble much percent unusual trading aapl aapl URL',\n",
              " 'USER yes exact issue took USER free battery replacement trackpad ended fine',\n",
              " 'USER say machine caused USER big drop aapl URL',\n",
              " 'USER USER yeah trackpad fine working but damage one screw holding get battery',\n",
              " 'video show size 12 inch ipad air plus mockup next iphones ipads macbook URL aapl',\n",
              " 'rt USER steve job clave en juicio contra USER URL URL',\n",
              " 'USER fail since updating ipad o bug not delete video free memory forcing URL',\n",
              " 'apple opening new retail store toledo ohio saturday december mac blog URL aapl',\n",
              " 'morgan stanley negative apple tech sector aapl aapl URL',\n",
              " 'google beating apple one key sector aapl aapl URL',\n",
              " 'bbc news evidence late steve job used music trial aapl URL',\n",
              " 'alarm set ringer refused work fuck USER',\n",
              " 'USER USER USER USER USER race win payment future payment start ups USER USER',\n",
              " 'lost deer season but no deer emoji come USER suppose show love huntin friendz',\n",
              " 'USER utilizing ibeacons engagement send message USER passbook personalization URL via USER',\n",
              " 'technology news USER trial feature unseen late stevejobs video deposition URL',\n",
              " 'USER figured memory issue ipad wasnt bug but new hidden folder store image URL',\n",
              " 'room 1215 15 today presenting experience USER dep USER herewegolakers',\n",
              " 'aapl pacific crest apple analyst reiterates selling share URL',\n",
              " 'pacific crest apple analyst reiterates selling share aapl aapl URL',\n",
              " 'applelawsuit depends exactly USER hold back beat competition fair game competitive tactic amp unfair 1 yk',\n",
              " 'aapl audio auto sale due apple lawsuit head court URL',\n",
              " 'apple pt raised canaccord genuity 135 00 buy rating URL aapl aapl',\n",
              " 'apple pt raised canaccord genuity 135 00 buy rating URL aapl aapl',\n",
              " 'iphone6 many issue tf earphone plug not working USER better fix shit free',\n",
              " 'cheap chromebooks teach apple lesson price matter aapl aapl URL',\n",
              " 'USER USER but trying get launch info ahead time telco marketing team nightmare thanks USER ecomchat',\n",
              " 'dear USER replace phone battery suck',\n",
              " 'apple head trial over itunes update aapl URL',\n",
              " 'beyond grave rt USER juror set hear fr star witness USER trial steve job URL URL',\n",
              " 'USER head trial over digital music claim appl tech',\n",
              " 'fantastic service today USER store touchwood thanks amp esp zach sorting battery problem quickly amp efficiently',\n",
              " 'apple dropped aapl aapl URL',\n",
              " 'apple intraday comment pre opening premium user aapl stockaction trading stock mkt URL',\n",
              " 'USER USER always like new product apple',\n",
              " 'rt USER dear USER replace phone battery suck',\n",
              " 'USER USER thats annoying never get stuff right first time',\n",
              " 'USER going aapl',\n",
              " 'apple lower analyst see risk sharp production cut iphone plus q1 aapl aapl URL',\n",
              " 'rt USER apple lower analyst see risk sharp production cut iphone plus q1 aapl aapl URL',\n",
              " 'rt USER dear USER replace phone battery suck',\n",
              " 'thestreet apple get price target boost back strong iphone demand aapl URL',\n",
              " 'aapl mt USER apple clear name ebooks drama eddy cue say but take better note URL',\n",
              " 'USER dual core technology URL',\n",
              " 'pacific crest apple analyst reiterates selling share forbes aapl URL',\n",
              " 'every student deserves chance USER connected txed',\n",
              " 'surprised isn talk looked like flash crash aapl yesterday biggest range year largely ignored',\n",
              " 'surprised isn talk looked like flash crash aapl yesterday biggest range year largely ignored',\n",
              " 'lack equal access technology place student minority disadvantage education great equalizer USER txed',\n",
              " 'rt USER apple pt raised canaccord genuity 135 00 buy rating URL aapl aapl',\n",
              " 'apple fibonacci technical level intraday pre opening aapl aapl URL',\n",
              " 'realmac software launch typed markdown writing app featuring minimal interface mac blog URL aapl',\n",
              " 'USER USER product line competes iphone6 v ipad need ipad longer',\n",
              " 'aapl fast money recap energy company ebb flow oil price URL',\n",
              " 'enjoying introduction USER connected launch event amazing edtech leader room txed',\n",
              " 'got new phone USER iphone6plus URL',\n",
              " 'applewatch detail exposed aapl URL',\n",
              " 'government attempt hail mary get apple unlock iphones aapl URL',\n",
              " 'apple fibonacci technical level intraday update aapl aapl URL',\n",
              " 'apple trillion dollar company according billionaire vc jim breyer aapl URL',\n",
              " 'chromebooks overtake apple ipads education market URL USER USER chromebooks ipad',\n",
              " 'apple inc doomed aapl dropped 54 currently priced 113 URL aapl',\n",
              " 'imagine world without cracked iphone screen USER patent drop protection mechanism URL URL',\n",
              " 'USER healthkit first mover featured USER mobiquity USER also panelist USER URL',\n",
              " 'aapl remove apple pay credit card remotely URL',\n",
              " 'USER want stop taking vertical photo URL via USER',\n",
              " '10 best steve job email apple stevejobs aapl URL',\n",
              " 'apple reportedly planning 12 inch ipad like microsoft surface aapl aapl URL',\n",
              " 'USER apple patent iphone drop protection mechanism change device tuesday december URL',\n",
              " 'prop USER itc app review team reviewing metadata rejected resubmission hour thanks',\n",
              " 'apple bear get paid put contract double amid drop URL news aapl applebears appleoptions apple iphone news',\n",
              " 'USER yall hoe',\n",
              " 'core USER new ios7 excellent update phone mobilesecurity mcafee URL',\n",
              " 'thanks USER keep newer transferring file local hard drive server',\n",
              " 'USER store georgetown sell refurb ipads new refurbs available online',\n",
              " 'apple fibonacci technical level intraday update aapl aapl URL',\n",
              " 'apple flash crash need know aapl URL',\n",
              " 'estimate trillion market cap apple still far fetched fundamental algorithmic analysis aapl URL',\n",
              " 'USER USER believe online but may able ship store',\n",
              " 'notice USER apps say get instead free change due alleged misleading labeling URL',\n",
              " 'apple intraday comment updated range premium user aapl stockaction trading stock mkt URL',\n",
              " 'aapl market cap pass 700 billion tablet sale slump URL',\n",
              " 'USER thanks also interestingly USER isn apple',\n",
              " 'USER USER confusing wonder mean going get bill later ur download please use free free',\n",
              " 'elgato launch thunderbolt dock 4k resolution support mac blog URL aapl',\n",
              " 'USER paper fe watch coolest piece wearable tech yet sorry USER URL USER via USER',\n",
              " 'finally gave return USER 17 macbook pro model 15 retina delivery probably announce one next month EMOJIwink',\n",
              " 'apple intraday comment updated new range premium user aapl stockaction trading stock mkt URL',\n",
              " 'apple loses ground google education tablet sale aapl aapl URL',\n",
              " 'apple computer inc aapl rated buy price target 135 canaccord genuity URL aapl',\n",
              " 'USER need mac really slow lately',\n",
              " 'apple fibonacci technical level intraday update aapl aapl URL',\n",
              " 'rt USER enjoying introduction USER connected launch event amazing edtech leader room txed',\n",
              " 'aapl aapl green right hope stay',\n",
              " 'rt USER customer service success amp fails USER amp USER example URL USER custserv cx cem',\n",
              " 'sprint offering halve wireless bill customer switching amp verizon io blog URL aapl',\n",
              " 'affluent apple user spend android user but number really mean aapl aapl URL',\n",
              " 'new meaning soviet joke whatever produce turn tank russia seek kalashnikov rival USER URL',\n",
              " 'stupid shit upgrade ruined god damned ide USER',\n",
              " 'piece shit USER god damnit man',\n",
              " 'hey USER come make genius bar appointment online anymore',\n",
              " 'apple ipad sale peaked aapl URL',\n",
              " 'happened rt USER piece shit USER god damnit man',\n",
              " 'apple get price target boost back strong iphone demand aapl aapl URL',\n",
              " 'aapl reason apple could fallen yesterday URL',\n",
              " 'USER pay compuserve btc internet',\n",
              " 'apple lower following cautious pac crest deutsche note aapl crus URL',\n",
              " 'awesome USER invented peanut butter sandwich technology phone URL',\n",
              " 'apple fibonacci technical level intraday update aapl aapl URL',\n",
              " 'lol fuck still not buying new one USER URL',\n",
              " 'aapl buy reiterated target raised 135 canaccord genuity aapl brief explanation URL aapl',\n",
              " 'aapl canaccord ups apple price target 135 share URL',\n",
              " 'economic temperature spiking terrorist attack either way not via USER aapl URL',\n",
              " 'USER caused much pain today',\n",
              " 'USER apple still struggle meet iphone6 demand canaccord raise price tuesday december URL',\n",
              " 'not cool USER not cool bait switched paying upgrade server free upgd 10 10',\n",
              " 'steve wozniak star upcoming reality tv show focusing futuristic tech mac blog URL aapl',\n",
              " 'iphone shortage not helping radioshack consumer sale plummet URL aapl',\n",
              " 'stevejobs crucial witness against apple ipod antitrust suit via USER aapl URL',\n",
              " 'thestreet android phone dominate 2018 io phone revenue dazzle goog aapl URL',\n",
              " 'thestreet apple get price target boost back strong iphone demand aapl URL',\n",
              " 'rt USER thestreet apple get price target boost back strong iphone demand aapl URL',\n",
              " 'apple fight new court case over stevejobs drm decision forbes aapl URL',\n",
              " 'computer susceptible adware don believe USER computer immune see post apple URL',\n",
              " 'reason apple could fallen yesterday forbes aapl URL',\n",
              " 'USER yall please send fuckin phone',\n",
              " 'anyone know fix xcode USER no simulator tried complete reinstall io URL',\n",
              " 'apple bear get paid put contract double amid drop aapl aapl URL',\n",
              " 'URL USER early adoption issue applepay blackfriday tokenization URL',\n",
              " 'cnbctv apple fighting monopoly allegation aapl URL',\n",
              " 'cnbctv iphone growth peaked aapl URL',\n",
              " 'cnbctv analyst worry iphone growth aapl URL',\n",
              " 'cnbctv cramer applewatch dazzler aapl URL',\n",
              " 'cnbctv cramer trading apple sucker game aapl URL',\n",
              " 'cnbctv apple head trial aapl URL',\n",
              " 'rt USER apple bear get paid put contract double amid drop aapl aapl URL',\n",
              " 'USER USER seen bunch people tweeting search twitter dev forum don remember solution',\n",
              " 'USER iad programmatic advertising sign time but doesn match company innovative rep URL',\n",
              " 'huge isp USER peering directly USER USER USER amp others getting 6ms ping response URL',\n",
              " 'USER make sd card add memory iphone know allow sd card profit',\n",
              " 'woah cashback USER store cybermonday deal URL ipads iphones mac',\n",
              " 'computer susceptible adware don believe USER computer immune see post URL',\n",
              " 'apple intraday comment new range premium user aapl stockaction trading stock mkt URL',\n",
              " 'reason apple could fallen yesterday aapl aapl URL',\n",
              " 'USER apple patent iphone drop protection mechanism change device tuesday december URL',\n",
              " 'google chromecast leapfrog apple tv aging medium player loses ground rival URL aapl',\n",
              " 'apple macbook 949 86 URL USER tech URL',\n",
              " 'phone keep fucking freezing USER',\n",
              " 'rt USER apple macbook 949 86 URL USER tech URL',\n",
              " 'rt USER apple macbook 949 86 URL USER tech URL',\n",
              " 'gorgeous lighting USER grandcentralstation URL',\n",
              " 'hear people headphone thank USER headphone USER',\n",
              " 'USER new patent iphone mid air trick avoid breaking URL technology apple patent tech',\n",
              " 'considering suing USER putting shitty u2 album phone',\n",
              " 'USER patent drop proof mechanism break law physic anti gravity URL via USER getagoodcase',\n",
              " 'USER USER believe bought USER fire tv 69 USER lost another customer',\n",
              " 'apple go trial over billion digital music lawsuit california aapl aapl URL',\n",
              " 'rt USER phone keep fucking freezing USER',\n",
              " 'worth reading design comparison USER USER map apps URL ux',\n",
              " 'USER damn wish could get iphone could imessage but don enough money damn damm damn USER',\n",
              " 'morgan stanley sell apple inc but aapl stock still buy URL aapl',\n",
              " 'late apple inc co founder steve job testifies itunes case URL aapl',\n",
              " 'USER USER ikr but dont need bc hopefully buy one christmas grade 17 20',\n",
              " 'rt USER USER damn wish could get iphone could imessage but don enough money damn damm damn USER',\n",
              " 'aapl android phone dominate 2018 io phone revenue URL',\n",
              " 'holiday weekend USER android came top URL URL',\n",
              " 'USER need sort llshit safari yosemite safari not find server apple macbook yosemiteproblems yosemite',\n",
              " 'apple canaccord merrill target iphone cycle mostly priced stock say pac crest aapl aapl URL',\n",
              " 'USER face 1b lawsuit over ipod allegation URL legal tech lawsuit',\n",
              " 'aapl apple trillion dollar company according billi URL',\n",
              " 'USER get patent prevent cracked screen rotating iphones fall URL URL apple',\n",
              " 'USER not happy USER USER backwards compatibility given apps not aperture money grab',\n",
              " 'rt USER apple macbook 949 86 URL USER tech URL',\n",
              " 'isn USER twitter URL',\n",
              " 'USER higher ups link link back USER email address',\n",
              " 'hey USER love ya but applecare low fi hold music awful would prefer hear tip using apple gear better use hold time',\n",
              " 'macbook pro 13 non retina first startup URL via USER USER macbook macbookpro startup hipster',\n",
              " 'macbook pro 13in unboxing URL via USER USER macbook macbookpro startup hipster unboxing',\n",
              " 'ipad mini unboxing URL via USER USER ipadmini ipad macbook macbookpro startup hipster unboxing',\n",
              " 'ipad mini first time startup URL via USER USER ipadmini ipad macbook macbookpro startup hipster unbox',\n",
              " 'apple iphone may face patent dispute chinese vendor look alike device aapl aapl URL',\n",
              " 'eddy cue speaks ibooks price fixing case feel fight truth URL aapl',\n",
              " 'russia could ban apple inc iphone lawmaker report URL aapl',\n",
              " 'die hard USER customer must say truly displeased customer service given yesterday badservice apple',\n",
              " 'would like USER rep reach resolve issue USER',\n",
              " 'aapl analyst rating last day 100 positive median target 137 19 upside URL aapl',\n",
              " 'rt USER apple macbook 949 86 URL USER tech URL',\n",
              " 'USER USER USER deal still available',\n",
              " 'cnbctv apple arguably innovative company world pro aapl URL',\n",
              " 'USER USER USER hi craig yes offer still available please visit u online URL purchase',\n",
              " 'cnbctv day apple antitrust trial aapl URL',\n",
              " 'aapl think valued 140 145s next year death steve job damaged samsung apple',\n",
              " 'eu nice iphone ya got pity something happen URL USER USER USER',\n",
              " 'aapl apple head trial steve job witness URL',\n",
              " 'rt USER bloombergtv stevejobs testimony play key role ipod trial URL aapl',\n",
              " 'deutsche bank see risk apple iphone sharp production cut aapl aapl URL',\n",
              " 'verr cktes ger cht iphone6s zum USER apple watch tuesday december URL',\n",
              " 'USER chromecast leapfrog USER tv aging medium player loses ground rival URL',\n",
              " 'USER get patent prevent cracked screen rotating iphones fall URL USER URL',\n",
              " 'USER plz kill verizon soo don weird apps passcodes synchronized location everything',\n",
              " 'rt USER aapl think valued 140 145s next year death steve job damaged samsung apple',\n",
              " 'strike somewhat stupid USER sent brand new iphone without latest software restore old stuff',\n",
              " 'USER really need something bullshit cord',\n",
              " 'back dead old ipod drag apple court URL aapl stevejobs',\n",
              " '169 apple supplier skyworks still buy swks aapl brcm mu qcom vti URL',\n",
              " 'gorgeous iphone apps surprising design amazing visuals bgr aapl URL',\n",
              " 'rt USER legendary USER designer USER give young designer simple rule follow URL via USER',\n",
              " 'USER iphone sitting quietly year protective case split open back URL',\n",
              " 'USER silver merchant prefer bitcoin USER applepay URL payment retail banking',\n",
              " 'yes USER perfect time lock screen install software update without asking not',\n",
              " 'mt USER die hard USER customer truly displeased customer service given yesterday badservice',\n",
              " 'chinese phone vendor claim apple iphone look similar aapl aapl URL',\n",
              " 'USER agreed give prop USER battery life new iphones good tl chat',\n",
              " 'winter scary but stay safe winnipeg free USER app URL',\n",
              " 'apple fibonacci technical level intraday update aapl aapl URL',\n",
              " 'rt USER apple fibonacci technical level intraday update aapl aapl URL',\n",
              " 'USER hate microphone shit imessage please take fuck off',\n",
              " 'a4 sound like need upgrade USER iphone although spacious purse hold many item USER USER tl chat',\n",
              " 'apple patent method make iphones fall like cat aapl URL',\n",
              " 'aapl apple fight new court case over steve job drm decision URL',\n",
              " 'apple dock billion antitrust claim cast stevejobs conspirator aapl URL',\n",
              " 'apple bear get paid put contract double amid drop aapl URL',\n",
              " 'USER USER hell yeah steve stick man',\n",
              " 'dear USER apple user over 20 year remember bug like current safari fixit URL',\n",
              " 'dear USER kindly fuck off m4a format regard music listener everywhere',\n",
              " 'USER like USER 10 would released already bb not playing catch time assure perfect',\n",
              " 'a6 speaking wearable new USER chargehr amp USER iphone want eat latke run place tl chat USER',\n",
              " 'USER USER USER sound like travel well together tl chat',\n",
              " 'USER USER USER gt a5 chipping inspired iphone take incredible photo pin sharp',\n",
              " 'pleased meet fellow tweep USER connected event fellow tbcoach practitioner USER great meet irl txed',\n",
              " 'buddy USER eye level USER store startup USER USER nice URL',\n",
              " 'apple watch track february 2015 release testing underway rumour aapl aapl URL',\n",
              " 'USER think 100 reason not 4 fuck USER',\n",
              " 'rt USER apple watch track february 2015 release testing underway rumour aapl aapl URL',\n",
              " 'rt USER buddy USER eye level USER store startup USER USER nice URL',\n",
              " 'USER unfollow unlike tuesday many unlike unfollow socialcleanuptuesday maybe USER USER antidrama USER',\n",
              " 'USER USER USER agree get not explicitly imply free',\n",
              " 'USER also wtf USER dont even live kirkby',\n",
              " 'innovation sector largest multiplier effect come job USER employ 13 00 creating 70 00 indirect job',\n",
              " 'morgan stanley sell apple inc but aapl stock still buy aapl aapl URL',\n",
              " 'movie itunes match icloud remove actually trailer annoying USER',\n",
              " 'silver finish applewatch place second even URL via USER aapl',\n",
              " 'siri bull shit telling not gonna rain shit da fuck pay USER',\n",
              " 'USER give job never suffer window o personal nor work use',\n",
              " 'nasdaq100 recent market exit sold aapl long 10 49 gain 20 day aapl forex trading stock',\n",
              " 'USER unseats USER classroom chromebooks beat ipads',\n",
              " 'USER USER shopping paid but may not receive good flight USER far better custserv',\n",
              " 'waiting ipod bubblews URL via USER apple',\n",
              " 'changing word aren even misspelled like really would really like know USER',\n",
              " 'russia could ban apple inc iphone lawmaker report URL aapl',\n",
              " 'lot go building brand don becom USER picking good name USER USER',\n",
              " 'apple inc short interest significantly november URL aapl',\n",
              " 'don worry USER crash anything not even USER stop',\n",
              " 'USER macmail o yosemite really giving hard time alternative email program yosemiteproblems',\n",
              " 'russian lawmaker think iphone stealing state secret aapl aapl URL',\n",
              " 'apple fibonacci technical level last intraday update aapl aapl URL',\n",
              " 'rt USER apple fibonacci technical level last intraday update aapl aapl URL',\n",
              " 'autocorrect change actual word word but spell actual word wrong doesn correct fuck yall nigga USER',\n",
              " 'macbook love today USER',\n",
              " 'USER movie chef original amp well executed reminded day steve job dreaming USER created iphone',\n",
              " 'USER apple patent iphone drop protection mechanism change device tuesday december URL',\n",
              " 'apple intraday comment last update premium user aapl stockaction trading stock mkt URL',\n",
              " 'happened apple inc URL aapl apple USER URL',\n",
              " 'hell 5gbs data phone USER',\n",
              " 'tweet nandos phone put cap like iphone six know favourite restaurant good phone gg USER',\n",
              " 'apple dec trading daily profit 34 sh weekly profit 13 37 sh aapl stockaction trading stock mkt URL',\n",
              " 'well fargo continues promoting apple pay new advertisement URL aapl',\n",
              " 'let not forget press effect stock USER defend against ipod antitrust suit URL',\n",
              " 'foxbustv time start buying apple URL aapl',\n",
              " 'heck isn taco emoji USER',\n",
              " 'aapl steve job email featured apple ipod antitrust trial URL',\n",
              " 'trade aapl free nightly update posted twitter visit trade aapl free website URL',\n",
              " 'USER named desired brand blackfriday amp cybermonday beating tech rival USER URL via USER',\n",
              " 'strategic step towards full time trading URL stock future forex trader e baba aapl gpro fb eem esignal',\n",
              " 'result mobility pilothouse program USER USER USER see loyal customer URL',\n",
              " 'USER imho oil going lower no reason not no bottom also btw aapl going 200 USER boldstatement',\n",
              " 'rt USER aapl steve job email featured apple ipod antitrust trial URL',\n",
              " 'USER beating USER education market amid ipad slowdown URL neo',\n",
              " 'USER see not even courtesy reply said stayed USER much better customer service',\n",
              " 'USER steve job testify USER trial beyond grave URL',\n",
              " 'simple rule young designer legendary USER designer susan kare via USER URL',\n",
              " 'sold count rt USER USER imho oil going lower no bottom also btw aapl going 200',\n",
              " 'company growing faster apple inc URL aapl',\n",
              " 'aapl apple co founder woz going reality tv URL',\n",
              " 'apple inc price close december 02 2014 114 63 apple aapl',\n",
              " 'announcement USER supporter criticized aapl following samsung large screen game',\n",
              " 'taking bluetooth calling whole new level USER USER USER URL',\n",
              " 'looking especially USER declining sale look like aapl decided wanted samsung piece pie',\n",
              " 'thank USER fixing swift sourcekit crash xcode EMOJIsmile life better URL',\n",
              " 'da fuck middle finger emoji USER ignore niggaz shit talk wit single sign',\n",
              " 'cool apple patent iphone drop protection mechanism change device angle freefall aapl applewatch URL',\n",
              " 'sign utterly broken wifi driver USER air sitting lap desperate enough read email android phone',\n",
              " 'USER USER mobilefirst enterprise collaboration online game changer doclens URL URL',\n",
              " 'hand elgato smart power mophie powerstation plus external battery io blog URL aapl',\n",
              " 'aapl moving towards iot connectivity everyday life rt USER future apple URL',\n",
              " 'know someone work worked USER cupertino bayarea techie',\n",
              " 'USER ipad innovation let u maintain enjoyed young URL via USER URL',\n",
              " 'USER USER sick USER petitioning one',\n",
              " 'USER need come new emojis perhaps one USER claw',\n",
              " 'apple release final cut pro 10 xcode mac blog URL aapl',\n",
              " 'apple inc iphone may infringe chinese company patent URL aapl',\n",
              " 'apple inc head trial over digital music claim URL aapl',\n",
              " 'chinese smartphone maker claim apple copied iphone design URL aapl android',\n",
              " 'contact USER rt USER anybody sold iphone question amp find google',\n",
              " 'USER go red aid awareness productred fuckaids URL every like get month donate quarter',\n",
              " 'group message people USER',\n",
              " 'rt USER group message people USER',\n",
              " 'rt USER group message people USER',\n",
              " 'rt USER group message people USER',\n",
              " 'USER searched company USER searched platform',\n",
              " 'love iphone6 USER mobilephone URL URL',\n",
              " 'learning apple USER USER URL',\n",
              " 'aapl time start buying apple URL',\n",
              " 'apple continues war notification center widget asks draft remove note creation feature URL aapl',\n",
              " 'learning ipod touch USER USER URL',\n",
              " 'apple inc aapl news analysis apple inc aapl ceo steve job consider law URL',\n",
              " 'verr cktes ger cht iphone6s zum USER apple watch tuesday december URL',\n",
              " 'USER get patent 2prevent cracked screen rotating falling iphones URL via USER bigdocc',\n",
              " 'rt USER group message people USER',\n",
              " 'USER USER USER love USER',\n",
              " 'USER dismiss call come not miss call notification accurately reflect action',\n",
              " 'USER USER agreed',\n",
              " 'im sick fucking shit USER',\n",
              " 'USER USER introducing iglove apple product allowing one single handedly operate iphone',\n",
              " 'USER set timetable rather chasing competition focusing customerexperience URL cx cem',\n",
              " 'today show demand feature USER policebodycameras USER opening toledo amp hot URL',\n",
              " 'aapl one thing everyone getting wrong come apple televis URL',\n",
              " 'aapl steve job star witness apple ipod lawsuit steve job e1294712990453 aapl steve job URL',\n",
              " 'mozilla planning release firefox io app future URL aapl',\n",
              " 'USER USER hang loose',\n",
              " 'USER USER USER wheres lava lamp emoji',\n",
              " 'ok USER USER going sell stuff provide visibility order system',\n",
              " 'facebook app but dumbass deleted redownload cause say need ios7 suck fucking as USER',\n",
              " 'mkt final aapl putcallratios tuesday december 2014 URL',\n",
              " 'final aapl putcallratios tuesday december 2014 URL via hamzei',\n",
              " 'USER USER chill',\n",
              " 'rt USER new ha blog post gt gt gt final aapl putcallratios tuesday december 2014 URL',\n",
              " 'amazon amzn ecosystem biggest threat aapl stock amzn amazon amzn ecosystem biggest threat URL',\n",
              " 'USER get cha shit together fix phone',\n",
              " 'USER USER USER USER need try ultra red monster',\n",
              " 'USER USER USER USER USER heard monster hebrew devil lol',\n",
              " 'USER USER USER USER USER no hold bar huh',\n",
              " 'aapl hour buzz apple bob evans farm amp URL',\n",
              " 'USER USER USER USER USER ultra red ok research seen coffee white blue',\n",
              " 'USER ick yo USER autocorrect ruse',\n",
              " 'ok muted groupchat but still get notification uhm USER hell',\n",
              " 'USER USER give edward scissorhands length finger might able use',\n",
              " 'sitting waiting half hour appt USER watching genius talk crap customer open nice',\n",
              " 'loving carplay unit honda fit work great hope apps make carplay come USER',\n",
              " 'iphones future could save drop URL aapl smhq',\n",
              " 'would nice could type one sentence without computer freezing USER USER USER USER USER',\n",
              " 'final aapl putcallratios tuesday december 2014 URL',\n",
              " 'USER early sign liver damage amp strengthen liver URL',\n",
              " 'yo USER wtf wrong people make easier delete contact already gosh damn',\n",
              " 'USER clock disappear siri super annoying want set alarm suddenly see time',\n",
              " 'dear USER would like imac touch screen watch',\n",
              " 'dad called music arent playing jesus christ USER problematic',\n",
              " 'fuck fuck much hate USER',\n",
              " 'aapl email job determined keep ipod apple URL',\n",
              " 'school district officially end billion ipad initiative midst fbi investigation URL aapl',\n",
              " 'become immune bug like USER USER become like people spend time choosewisely',\n",
              " 'well imessage doesn work thanks USER',\n",
              " 'next year goal apple free tired b USER USER',\n",
              " 'USER USER yep jump make 5 least good deal 5',\n",
              " 'USER USER 5 great cracked screen amp dying battery thinking trading new 5 EMOJIsad',\n",
              " 'USER patent active fall protection system shift iphones midair URL',\n",
              " 'USER innovative company 2014 URL via USER innovation',\n",
              " 'also iphone two day already broken shout USER',\n",
              " 'uh USER making fun french people rude new iphone call anywhere ad seemed',\n",
              " 'one thing everyone getting wrong come apple television aapl URL URL',\n",
              " 'future apple aapl URL URL',\n",
              " 'feeling creatively stifled current emoji selection USER',\n",
              " 'USER fuck bitch phone abrick stuck apple logo',\n",
              " 'know raul going love brand new art supply thank USER USER',\n",
              " 'aapl buy reiterated target raised 130 bank america merrill lynch aapl brief explanation URL aapl',\n",
              " 'forget apple better tech stock buy motley fool aapl URL',\n",
              " 'stock market today moving wmt aapl uber news money morning company reported bil URL',\n",
              " 'morgan stanley sell apple inc but aapl stock still buy aapl stock news morgan stanley sell apple inc URL',\n",
              " 'one good thing waiting USER store appointment cleared backlog email inbox',\n",
              " 'product hunter functional whimsical keyboard ios8 forbes aapl URL',\n",
              " 'move aside apple google alibaba entering connected car space forbes baba goog aapl URL',\n",
              " 'imessage isn working thanks USER',\n",
              " 'USER USER get android',\n",
              " 'USER USER got new phone',\n",
              " 'no typo changing word get together USER',\n",
              " 'aapl 17 analyst rating last 30 day 94 positive median target 130 13 upside URL aapl',\n",
              " 'hey USER could make iphone charger last month sincerely broke high school student want phone charged',\n",
              " 'fuck apple allowing ppl access camera phone locked fuck fuck USER',\n",
              " 'don ape emoji iphones middle finger almost 2015 step USER',\n",
              " 'USER beginning think product crap',\n",
              " 'iphone finally came almost week don think forget USER',\n",
              " 'aapl email steve job determined keep ipod apple URL',\n",
              " 'need send iphone cancel USER USER',\n",
              " '6th charger buy mac gave wrong one USER applesuport fix wrongdoing give free one',\n",
              " 'fuck USER',\n",
              " 'liberal protest corporate greed throw away nifty USER product shutitdown dcferguson',\n",
              " 'watch steve wozniak use iphone6 magically unlock hotel room woz USER URL',\n",
              " 'dear apple worse service ever USER URL',\n",
              " 'USER apple iphone7 release date speculation indicate sept 2015 launch apple wednesday december URL',\n",
              " 'since software update iphone ipad ipod touch not charge royally fucked USER',\n",
              " 'USER really great charger work well not',\n",
              " 'cheeky USER cheeky no dice though app store description not product URL',\n",
              " 'USER buy USER USER get emulation character game content portfolio brand recognition developer contact',\n",
              " 'bug USER io spotlight search search twitter app selecting search web result input bea 6plus URL',\n",
              " 'aapl ios8 rt USER browser share URL',\n",
              " 'USER get shit together group chat ios8',\n",
              " 'USER USER but could post twitter nasdaq twtr instagram nasdaq fb shutterfly nasdaq sfly shutitdown',\n",
              " 'russia selling banned stevejobs tribute statue USER URL apple aapl iphone memorial bastard',\n",
              " 'fuck fucking phone fucking tripping im fucking tired fucking bullshit im holding responsible USER',\n",
              " 'USER computer slow',\n",
              " 'rt USER USER computer slow',\n",
              " 'really need tap tweet back USER',\n",
              " 'peterhewer USER iphone claimed copy chinese smartphone design ouch URL',\n",
              " 'love USER iphone5 but need upgrade soon URL URL',\n",
              " 'USER USER USER saying',\n",
              " 'USER USER USER USER penis emoji sick implying dick look like eggplant',\n",
              " 'love USER macbookpro best ever URL URL',\n",
              " 'USER isn puke emoji pissed fix fat',\n",
              " 'USER USER pretty cute guy',\n",
              " '170 picture storage full USER get together',\n",
              " 'rt USER 170 picture storage full USER get together',\n",
              " 'aapl stock mini flash crash money morning nothing analyst suggested would make widely held URL',\n",
              " 'apple success made part payola scheme apple inc nasdaq aapl recently reached new URL',\n",
              " 'would brilliant sad USER doesn allow mozilla better engine USER opensource',\n",
              " 'apple earbuds fucking weak literally cannot withstand god damn damage wasted much money fuck USER',\n",
              " 'tom automatically capitalized tommy isn USER need fix autocorrectprobs',\n",
              " 'able name group text would great USER',\n",
              " 'USER USER USER USER common somebody URL',\n",
              " 'difficult qualify geniusbar appointment USER day unneccessary',\n",
              " 'go USER idr code',\n",
              " 'hour buzz aapl bobe amp check company making headline bell tuesday URL',\n",
              " 'even microsoft agrees iphone6 mind blowing aapl design product innovation mobile URL',\n",
              " 'USER USER anyone logjn amp reorder tweet 2step auth don share password amp USER said no malware USER',\n",
              " 'god dammit fuck USER',\n",
              " 'rt USER god dammit fuck USER',\n",
              " 'USER something cunt USER',\n",
              " 'fuck USER USER',\n",
              " 'government accepts donation reduce national debt fact USER USER USER USER USER USER',\n",
              " 'principled truth eddy cue talk fortune apple appeal book price fixing judgment aapl URL',\n",
              " 'principled truth eddy cue talk fortune apple appeal book price fixing judgment aapl URL',\n",
              " 'could punch whoever came new USER commercial makeitstop ahh',\n",
              " 'USER fuck',\n",
              " 'aapl tell apple patent way save iphone dropping breaking URL',\n",
              " 'hey USER catch fucking maverick wave iphone didn think surfsupsamsung',\n",
              " 'USER need finger gun emoji pronto',\n",
              " '10 best steve job email URL apple USER',\n",
              " 'dear USER please fix awdl issue URL',\n",
              " 'android io aapl samsung aapl applepay apple goodmore givingtuesday stonersports 3yearsof5sos flashvsarrow stock',\n",
              " 'apple inc go trial anti trust charge today URL aapl',\n",
              " 'USER english mean URL',\n",
              " 'apple macbook 949 86 URL USER tech URL',\n",
              " 'USER USER thank USER',\n",
              " 'ipad conquer enterprise USER gut license io URL',\n",
              " 'USER really need battery game no one got time charge phone furstrated annoyed charging',\n",
              " 'yea let pay 600 dollar phone dy 30 fix shit USER',\n",
              " 'USER USER wrong homie',\n",
              " 'USER USER haha switch USER',\n",
              " 'USER USER overheat',\n",
              " 'rt USER USER USER wrong homie',\n",
              " 'rt USER yea let pay 600 dollar phone dy 30 fix shit USER',\n",
              " 'USER USER thing bought iphone came replace battery month two',\n",
              " 'rumor surface USER apple iphone6s iphone7 2015 wednesday december URL',\n",
              " 'USER USER lol iphone weak get lumia level bruh',\n",
              " 'great fcp update USER today nicely video editing',\n",
              " 'rt USER yea let pay 600 dollar phone dy 30 fix shit USER',\n",
              " 'great piece USER USER amp new red app store profit exclusive content go USER URL',\n",
              " 'still merge multiple apple id USER fail URL',\n",
              " 'dyslexic iphone user rejoice thanks USER voice text hard spell word thing past URL',\n",
              " 'USER USER USER USER know iphone dy like 20',\n",
              " 'realised reason USER make huge phone ked safari not allowing u hide address bar',\n",
              " 'still merge multiple apple id USER fail URL',\n",
              " 'intel inevitability URL aapl intc mchp',\n",
              " 'no black heart emoji USER',\n",
              " 'steve job email featured apple ipod u antitrust trial URL aapl',\n",
              " 'trade aapl free nightly update posted twitter visit trade aapl free website URL',\n",
              " 'rumoured USER r8207 look similar certain USER iphone6 URL',\n",
              " 'rumoured USER r8207 look similar certain USER iphone6 URL',\n",
              " 'USER USER rolled webgl ios8 month ago overtook USER USER webgl support level',\n",
              " 'rt USER rumoured USER r8207 look similar certain USER iphone6 URL',\n",
              " 'oh god dont play forreal USER',\n",
              " 'USER tv fade away streaming video player market URL',\n",
              " 'USER patent active fall protection system shift iphone midair URL technology fyi',\n",
              " 'aapl don confuse morgan stanley decreasing apple weighting URL',\n",
              " 'rt USER USER USER rolled webgl ios8 month ago overtook USER USER webgl support level',\n",
              " 'USER USER restart wait till next apple update happens',\n",
              " 'USER diag support suck lot say cannot connect server try ticket not found disgusting URL',\n",
              " 'URL default search engine',\n",
              " 'gtat creditor want question apple jeff williams aapl aapl URL',\n",
              " 'brilliant tech no broken screen festival USER via USER URL URL',\n",
              " 'update steve job email featured apple ipod antitrust trial aapl aapl URL',\n",
              " 'lot time people don know want show steve job aapl apple',\n",
              " 'sent computer USER twice repair last month time come back new problem something isn right',\n",
              " 'put gay stuff fucking iphone USER URL',\n",
              " 'rumor surface EMOJIeyerollapple apple iphone6s iphone7 2015 wednesday december URL',\n",
              " 'USER computer like crash dead week final',\n",
              " 'USER iupdate process incensing rubbish hopefully USER irrelevant soon',\n",
              " 'USER fix apps click play playin really play button',\n",
              " 'going press play button wait no not EMOJIsad USER fix apps URL',\n",
              " 'dawned probably spent replacing frayed non functioning iphone cable spent iphones USER',\n",
              " 'USER iupdate new since needed dun two year ago web form phone call ironic USER req support ie8',\n",
              " 'apple bear get fat payout stock swoon 60 second plunge aapl aapl URL',\n",
              " 'USER USER true making sale off accessory',\n",
              " 'USER probably spent replacing non functioning iphone cable spent iphones USER switchtolumia',\n",
              " 'school district halt ipad contract fbi seizes document aapl aapl URL',\n",
              " 'great coverage USER USER cyber monday data but show top item store like USER URL',\n",
              " 'USER USER USER USER disrespectful',\n",
              " 'apple io device accounted 78 record setting cyber monday mobile sale aapl aapl URL',\n",
              " 'USER patented iphone drop protection mechanism end crackedscreens URL URL',\n",
              " 'probably reading iphone built largest company around aapl broke record URL impress',\n",
              " 'never interpreted ask annoyingly soon io apps ask rated USER tell devs never mean never',\n",
              " 'apple iphone crush samsung galaxy to1 japan aapl aapl URL',\n",
              " 'USER apple sale soar launch iphone6 wednesday december URL',\n",
              " 'apple still struggle meet iphone demand canaccord raise price target 135 aapl aapl URL',\n",
              " 'USER thx rt USER 2600 digital language ip new internet leader 10 cost diy USER URL',\n",
              " 'got new iphone6 growing love bit bulky coming iphone5 but nice feel thanks USER waiting applewatch',\n",
              " 'rt USER gtat creditor want question apple jeff williams aapl aapl URL',\n",
              " 'sp500 technology bull index apple experiment spy spx e xlk aapl aapl URL',\n",
              " 'technical observation day tested 20 dma apple aapl aapl URL',\n",
              " 'apple pt raised jmp security 150 00 outperform rating URL aapl aapl',\n",
              " 'apple pt raised jmp security 150 00 outperform rating URL aapl aapl',\n",
              " 'email job determined keep ipod apple aapl aapl URL',\n",
              " 'apple intraday comment pre opening premium user aapl stockaction trading stock mkt URL',\n",
              " 'USER working making next phone drop safest way time like cat URL',\n",
              " 'apple recent pullback buy opportunity aapl URL',\n",
              " 'apple eddy cue talk price fixing book aapl URL',\n",
              " 'bay area courtroom lawyer hit replay USER history via USER antitrust USER ipod URL',\n",
              " 'stevejobs email show wanted smear competitor hacker aapl URL',\n",
              " 'USER stop liking man',\n",
              " 'even apple surprised enormous demand iphone aapl aapl URL',\n",
              " 'apple fibonacci technical level intraday pre opening aapl aapl URL',\n",
              " 'yo didnt touch phone right disconnected charger went USER gonna scrap right',\n",
              " 'thestreet even apple surprised enormous demand iphone6 aapl URL',\n",
              " 'steve job snarky testimony take center stage ipod class action lawsuit opening URL aapl',\n",
              " 'jimcramer used logic explain tol earnings paek housing retailer aapl like amzn not tech',\n",
              " 'rt USER apple pt raised jmp security 150 00 outperform rating URL aapl aapl',\n",
              " 'block trade detected aapl',\n",
              " 'iphone6s rumor point curious early 2015 release forbes aapl URL',\n",
              " 'apple intraday comment updated range premium user aapl stockaction trading stock mkt URL',\n",
              " 'go apple look like little squeeze EMOJIsmile aapl stock',\n",
              " 'apple fairly valued 115 aapl io applewatch applepay apple iphone6 iphone6plus stock finance stock trading samsung',\n",
              " 'USER iphones future could save drop URL',\n",
              " 'butterfingers USER mix USER patent active fall protection system shift iphones midair URL',\n",
              " 'applepay partner stripe valued billion funding aapl URL',\n",
              " 'apple fibonacci technical level intraday update aapl aapl URL',\n",
              " 'rt USER apple fibonacci technical level intraday update aapl aapl URL',\n",
              " '17 macbook pro boot pink vertical stripe gray screen shutting repeating help USER URL',\n",
              " 'USER USER year',\n",
              " 'apple fibonacci technical level intraday update aapl aapl URL',\n",
              " 'USER USER try booting holding command see disk repair',\n",
              " 'gosh darnit USER dont know cloud',\n",
              " 'aapl apple eddy cue talk price fixing book agai URL',\n",
              " 'USER USER get logic board completely replaced warranty free make sure back b4',\n",
              " 'big spending consumer cyber monday cybermonday paypal apple aapl ebay walmart wmt sale URL',\n",
              " 'allowing USER final creative authority USER debut first spot featuring applepay week URL',\n",
              " 'apple ceo tim cook talk technology senator orrin hatch washington trip URL aapl',\n",
              " 'USER USER previously deal issue really annoying try reset nvram URL',\n",
              " 'tell ur update stop capitalizing everything USER',\n",
              " 'USER USER seems ignore key press like command thing',\n",
              " 'aapl move point faster new york driver change lane',\n",
              " 'USER USER autocorrect shit',\n",
              " 'USER USER but fix problem good could back might change logic board check apple genius EMOJIsad',\n",
              " 'kantar USER apple track record quarter iphone6 sale bump wednesday december URL',\n",
              " 'USER USER get cloud butt extension web browser',\n",
              " 'apple fibonacci technical level intraday update aapl aapl URL',\n",
              " 'URL yotaphone2 future cell phone USER USER scared',\n",
              " 'cnbctv cramer apple no real competition aapl URL',\n",
              " 'cnbctv chromecast beat appletv aapl URL',\n",
              " 'apple intraday comment updated range premium user aapl stockaction trading stock mkt URL',\n",
              " 'USER USER thanks tip seemed something but still pretty much EMOJIsad',\n",
              " 'USER USER think like 2011 look right',\n",
              " 'trademark confusion apple app store trademark rejected australia approved europe canada aapl aapl URL',\n",
              " 'lowkey yosemite trash af cant use logic express anymore USER yall irritating fuck outta sincerely disgruntled person',\n",
              " 'USER tks setting record straight USER investor',\n",
              " 'USER USER yes seems fix good first time time pass deterioates change logic board',\n",
              " 'USER USER sorry going hope get fix real pain u but apple care cover free',\n",
              " 'USER USER wish could man wish could',\n",
              " 'gotta something USER USER USER trash computer keep freezing amp dumb af upgraded yosemite',\n",
              " 'USER USER doesn twitter USER problem',\n",
              " 'rt USER justice department cite 18th century federal law get USER unlock iphones URL',\n",
              " 'USER USER yeah no applecare haha',\n",
              " 'transpartent resin infused composite structure USER URL',\n",
              " 'huge iphone sale push io market share worldwide report aapl aapl URL',\n",
              " 'apple fibonacci technical level intraday update aapl aapl URL',\n",
              " 'anti trust expert peter carstensen USER discus USER antitrust case california federal court URL',\n",
              " 'taking apple lead amazon get physical news harvard business school URL USER USER',\n",
              " 'rumor surface apple iphone6s iphone7 2015 aapl URL',\n",
              " 'USER new patent against broken screen URL USER tech iphone business innovation URL',\n",
              " 'steve job deposition ipod lawsuit could cost USER billion URL musicbiz musicindustry apple',\n",
              " 'USER new patent against broken screen URL USER tech iphone business innovation',\n",
              " 'awesome paid iphone ipad apps free limited time via USER aapl URL',\n",
              " 'USER USER one belongs USER USER third USER via employeediscount',\n",
              " 'verr cktes ger cht iphone6s zum USER apple watch wednesday december URL',\n",
              " 'anyone update yosemite macbook running like shit USER apple',\n",
              " 'rt USER steve job deposition ipod lawsuit could cost USER billion URL musicbiz musicindustry apple',\n",
              " 'kantar iphone help apple gain share over android iphone 5c outselling iphone plus u aapl aapl URL',\n",
              " 'USER USER suck don know cost dollar but u 400 EMOJIsad',\n",
              " 'google chromecast surpasses apple tv sale URL aapl amazon amazonfiretv amzn appletv',\n",
              " 'rt USER think want USER watch URL',\n",
              " 'aapl google top apple feed foxbusiness com foxbusiness video dbuio5m0',\n",
              " 'USER USER take faulty graphic card recalled exact prob replaced mine free warranty',\n",
              " 'macbook pro 13 non retina first startup URL via USER USER macbook macbookpro startup hipster',\n",
              " 'macbook pro 13in unboxing URL via USER USER macbook macbookpro startup hipster unboxing',\n",
              " 'ipad mini unboxing URL via USER USER ipadmini ipad macbook macbookpro startup hipster unboxing',\n",
              " 'ipad mini first time startup URL via USER USER ipadmini ipad macbook macbookpro startup hipster unbox',\n",
              " 'USER patent new reflex drop technology mobile device learn could come handy mobiledose URL',\n",
              " 'USER USER io update bricked trish phone seems like apple getting bit rotten',\n",
              " 'update intel intc led group said back plan would limit qualcomm qcom licensing fee aapl hpq URL',\n",
              " 'core USER new ios7 excellent update phone mobilesecurity mcafee URL',\n",
              " 'USER USER info URL URL URL hope help pinkscreenofdeath',\n",
              " 'fbi investigates ipad school programme aapl aapl URL',\n",
              " 'apple fibonacci technical level intraday update aapl aapl URL',\n",
              " 'hoping USER not cave USER allow browser engine openup could soon come io techcrunch URL',\n",
              " 'aapl company growing faster apple r cnn com r money latest n1ps4cmqwl4 index html',\n",
              " 'USER sit home every friday night waiting invitation join USER dev team look phone call one day',\n",
              " 'isn dreidel emoji USER',\n",
              " 'bluetooth bring direct internet connectivity increased speed URL aapl',\n",
              " 'guy USER serious yosemite full stupid ugly bug feeling sad cc USER URL',\n",
              " 'iphone6 plus grab 41 phablet sale aapl URL',\n",
              " 'important apple not become developer world need people invent stuff tim cook ceo USER',\n",
              " 'believe USER said melted key mac pro not warranty machine le year old asking 500 repair',\n",
              " 'huge iphone sale put apple course record quarter aapl aapl URL',\n",
              " 'block trade detected aapl',\n",
              " 'cnbctv apple take stand aapl URL',\n",
              " 'check USER benz USER ipad amp tan leather case device beige mercedesbenz URL via USER',\n",
              " 'hey USER even thinking fixing wifi issue yosemiteproblems',\n",
              " 'USER wait USER inquisition feel like USER origin',\n",
              " 'USER USER solution offering integration suite something like USER approach',\n",
              " 'USER add heavyhitting digitalhealth partner rival USER via USER URL',\n",
              " 'listen USER think way keep brain sharp thru certain apps provide sell uh reading muhfugs',\n",
              " 'customer service USER best year enjoying product zero complains thanks apple',\n",
              " 'new foldable macbook pro falling laptop creates USER latest innovation URL',\n",
              " 'kenneth USER',\n",
              " 'gone iphone charger past montht hank USER',\n",
              " 'rt USER steve job deposition ipod lawsuit could cost USER billion URL musicbiz musicindustry apple',\n",
              " 'trickle information USER released healthkit USER note going braid strategy hcub2014 URL',\n",
              " 'pegraton may gain order 50 2015 iphone 6 aapl aapl URL',\n",
              " 'rt USER block trade detected aapl',\n",
              " 'apple fibonacci technical level intraday update aapl aapl URL',\n",
              " 'USER USER thanks info genius able get computer booted forcing discreet video card boot',\n",
              " 'rt USER transpartent resin infused composite structure USER URL',\n",
              " 'every new iphone update spellcheck suppress greatness stop trying tell type USER',\n",
              " 'USER USER',\n",
              " 'know mac user happy get turdbolt USER eschewed esata since inception nut kick dead steve',\n",
              " 'USER ceo USER visit USER URL USER',\n",
              " 'los angeles unified school district reportedly suspends ipad purchase following fbi raid aapl aapl URL',\n",
              " 'expensive USER product failing le 18 month no warranty no recourse buy junk',\n",
              " 'USER USER USER USER USER obviously part left multi talented super successful gay business agenda',\n",
              " 'matthew neville USER shifting role custom compliance global custom compliance forum URL trade',\n",
              " 'USER USER really',\n",
              " 'rt USER USER ceo USER visit USER URL USER',\n",
              " 'rt USER USER ceo USER visit USER URL USER',\n",
              " 'rt USER USER ceo USER visit USER URL USER',\n",
              " 'photo caf mac USER check shady groove USER check not techie seem frequent URL',\n",
              " 'rt USER USER ceo USER visit USER URL USER',\n",
              " 'got hear new patent apple quite innovative idea USER mobile screen never break future',\n",
              " 'USER USER yeay glad worked EMOJIsmile',\n",
              " 'apple price target rise 140 URL apple aapl',\n",
              " 'USER pls let know yr sorti problem wi ipadmini freezing slow URL',\n",
              " 'loved discussion USER come back USER called second USER turnaround bi ignition2014',\n",
              " 'oddly uplifting story apple co founder sold stake 800 aapl aapl URL',\n",
              " 'USER USER ended getting new computer anyhow work computer switch vid card URL',\n",
              " 'whoever downgrade iphone 5 obviously doesn understand extra 20 battery life every morning 5 dead USER',\n",
              " 'USER USER u',\n",
              " 'USER made tape dispenser stapler would set URL',\n",
              " 'USER granted patent tech shift iphone center mass fall prevent damage screen URL uspto',\n",
              " 'USER USER fuck apple',\n",
              " 'USER USER USER bought maybe two week ago already started lol URL',\n",
              " 'USER trump USER streaming medium sale URL USER',\n",
              " 'USER trump USER streaming medium sale URL',\n",
              " 'new phone suck make stand side wait iphone USER fix dingle',\n",
              " 'idk phone ip6 shit but problem USER fix shit',\n",
              " 'iphone may longer upgrade cycle expect unit sale fall aapl aapl URL',\n",
              " 'rt USER USER ceo USER visit USER URL USER',\n",
              " 'waiting week dun number preventing able build release client io app USER hate',\n",
              " 'pegatron may handle half iphone 6 order 2015 io blog URL aapl',\n",
              " 'last month ip cable month earpiece give break USER',\n",
              " 'time buy dip apple inc stock URL aapl',\n",
              " 'evidence apple inc need refresh apple tv URL aapl',\n",
              " 'USER sometimes restart phone make siri speak selection annoying fixit',\n",
              " 'USER always talk town crescentgate',\n",
              " 'aapl apple back court billion line URL',\n",
              " 'not sure want plus USER iphone6 iphone6plus iphone URL URL',\n",
              " 'company admire USER USER USER must rock work mainly bos culture',\n",
              " 'time buy dip apple inc stock aapl aapl URL',\n",
              " 'time buy dip apple inc stock motley fool aapl URL',\n",
              " 'evidence apple inc need refresh appletv motley fool aapl URL',\n",
              " 'dear USER karen win best customer service ever waited hold 12 minute help waited hold bank',\n",
              " 'USER USER USER thanks much',\n",
              " 'isn vomiting emoji yet USER URL',\n",
              " 'USER USER good god lmao burn daytona ground',\n",
              " 'julian robertson still bullish apple inc URL aapl',\n",
              " 'new foldable macbook pro falling laptop creates USER latest innovation URL',\n",
              " 'apple iphone gained significant share u japan germany great britain URL via USER aapl iphone6',\n",
              " 'USER USER question passbook ever anything',\n",
              " 'USER send new computer today broken whyamihavingtomakegeniusbarappointmentsalready',\n",
              " 'ok utterly rediculous take hr simple thing like syncing ringtone itunes accessability horific rediculous USER',\n",
              " 'lawsuit asks whether apple used itunes price fixing aapl URL',\n",
              " 'apple hint work vr gaming amp user interface future product oculus leap expert wanted aapl aapl URL',\n",
              " 'rt USER new phone suck make stand side wait iphone USER fix dingle',\n",
              " 'goodbye graphic problem thank USER great customer service URL',\n",
              " 'goodbye graphic problem thank USER great customer service URL',\n",
              " 'apple dominates mobile online shopping 78 percent u aapl URL',\n",
              " 'job said apple took pain protect record contract stevejobs aapl URL',\n",
              " 'hey USER think need new product ipster',\n",
              " 'rt USER buddy USER eye level USER store startup USER USER nice URL',\n",
              " 'USER USER kind thought hand',\n",
              " 'wrist devs embrace future apple watch apps aapl aapl URL',\n",
              " 'apple fibonacci technical level intraday update aapl aapl URL',\n",
              " 'USER told USER product price overrided must pay full price call back',\n",
              " 'USER USER really',\n",
              " 'rt USER isn vomiting emoji yet USER URL',\n",
              " 'rt USER apple fibonacci technical level intraday update aapl aapl URL',\n",
              " 'phone died 23 USER fuck',\n",
              " 'aapl apple iphone gained significant share u japan germany URL',\n",
              " 'got powerbeats2 back repair shoutout USER USER',\n",
              " 'USER USER USER happy help use kind word EMOJIsmile using apple process free fast URL dm',\n",
              " 'apple failed make sapphire iphones aapl aapl URL',\n",
              " 'note USER mail still trouble sending last update didn fix mail doesn send not useful',\n",
              " 'USER USER good got new shiny mac keep handy',\n",
              " 'fucking goddamn stupid USER USER ur fucked justsayin itunes',\n",
              " 'rt USER isn dreidel emoji USER',\n",
              " 'phone dropped happened USER wanna help URL',\n",
              " 'USER chartoftheday apple aapl URL',\n",
              " 'dear USER USER could URL',\n",
              " 'apple iphone gained significant share u japan germany great britain aapl aapl URL',\n",
              " 'rt USER phone died 23 USER fuck',\n",
              " 'activation airdrop io kill wifi done USER',\n",
              " 'USER USER wait technology analysis firm go public stock symbol rong',\n",
              " 'jimmy iovine apple hole music right let plug URL aapl',\n",
              " 'use ios8 continuity know mobile URL aapl',\n",
              " 'USER ios8 iphone6 issue device voicemail phone phone seems developed ie listen message take note',\n",
              " 'apple iphone plus amazingly capture 41 phablet market right gate aapl aapl URL',\n",
              " 'bloombergtv ipod trial consumer mp3 option gauna URL via USER aapl',\n",
              " 'check local USER store amp pick smart thermometer flu season URL apple URL',\n",
              " 'iphone plus huge china spring aapl aapl URL',\n",
              " 'rt USER iphone plus huge china spring aapl aapl URL',\n",
              " 'apple fibonacci technical level last intraday update aapl aapl URL',\n",
              " 'rt USER apple fibonacci technical level last intraday update aapl aapl URL',\n",
              " 'srsly get rt USER check local USER store amp pick smart thermometer flu season URL apple',\n",
              " 'USER USER release new infiniteflight update appstore USER say update hand',\n",
              " 'USER support said test nfc assume phone not working keep saying help go back USER',\n",
              " 'USER rage dealing USER genius maintain not known issue simple google search show big',\n",
              " 'cnbc tv day apple antitrust trial URL aapl',\n",
              " 'barclays raise aapl price target 17 140 aapl aapl URL',\n",
              " 'USER help mac memory cleared asking password not old one get',\n",
              " 'steve job don know claim case aapl aapl URL',\n",
              " 'USER happy new month',\n",
              " 'USER USER yeah don make tablet USER',\n",
              " 'USER USER USER apple meant healthy',\n",
              " 'USER USER USER but phone make people fat lol',\n",
              " 'block trade detected aapl',\n",
              " 'apple dec trading daily profit 85 sh weekly profit 15 22 sh aapl stockaction trading stock mkt URL',\n",
              " 'rt USER justice department cite 18th century federal law get USER unlock iphones URL',\n",
              " 'siri never understands said new language didn get speak english without major accent apple USER',\n",
              " 'block trade detected aapl',\n",
              " 'rt USER block trade detected aapl',\n",
              " 'thanks USER USER USER great leadership federal grand jury subpoenaed document unified URL',\n",
              " 'google may big winner lausd ipad scandal URL via USER aapl',\n",
              " 'USER selling lightning cord doesn work accessorymaynotbesupported USER deal URL',\n",
              " 'apple google amazon und facebook aapl dax URL',\n",
              " 'USER badge finally work work site tore guest sticker badge many many piece feel like new man',\n",
              " 'USER could gone canal street knockoff cmonman USER must pay 30 lightning cord',\n",
              " 'please make gold macbook USER',\n",
              " 'aapl lawsuit asks whether apple used itunes price fixing URL',\n",
              " 'another lawsuit against USER one ipod antitrust tactic itunes URL',\n",
              " 'USER pay 24 million infringing ancient pager patent URL sure not intellectualproperty ip pgsip',\n",
              " 'early mover anf tjx tgt lyv sne aapl amp stock posting largest move bell URL',\n",
              " 'USER fnd netbot app store help asap',\n",
              " 'new detail USER giant sized ipad might leaked URL via USER',\n",
              " 'apple inc price close december 03 2014 115 95 apple aapl',\n",
              " 'wow yall needa step USER rt USER music snapchat damn time thank note4',\n",
              " 'able leave facetime video message USER',\n",
              " 'aapl carl icahn cause private equity bubble URL',\n",
              " 'USER not believe USER still given nature accused disgusting',\n",
              " 'hide gray controller dvd player heck USER URL',\n",
              " 'learning apple ipad air 128gb wi fi gold USER USER',\n",
              " 'USER yeah not everyone sold soul USER ago thanks link',\n",
              " 'USER USER USER wait no im okay but yeah actually burn',\n",
              " 'jimmy iovine convinced apple buy beat aapl URL URL',\n",
              " '13 thing didn know iphone6 could aapl URL URL',\n",
              " 'question every cio ask USER iwatch URL',\n",
              " 'USER USER fuck phone shouldn take long',\n",
              " 'new role requires new hardware thankful USER USER URL',\n",
              " 'aapl apple device clobber android cyber monday but underdog ca URL',\n",
              " 'howto import objective code bridging header file USER sdk USER swift URL URL',\n",
              " 'apple ceo tim cook come gay USER URL via USER',\n",
              " 'great piece USER USER amp new red app store profit exclusive content go USER URL',\n",
              " 'USER lolol stupid phone say best varied USER sort phone apols',\n",
              " 'shockingly imessage desktop fucked great work USER seriously point network service',\n",
              " 'USER ust sayin aapl still king',\n",
              " 'office today remotesupport techlife USER URL',\n",
              " 'USER aapl fantastic investment but future aapl beat aapl',\n",
              " 'USER don want money going africa fight aid problem need fight apple africa USER cnn',\n",
              " 'early mover anf tjx tgt lyv aapl amp stock posting largest move bell URL',\n",
              " ...]"
            ]
          },
          "metadata": {},
          "execution_count": 36
        }
      ]
    },
    {
      "cell_type": "code",
      "source": [
        "words_values = pd.Series(\" \".join(processedtext).split()).value_counts()\n",
        "print(words_values)\n",
        "rare_words = words_values[words_values <= 3]\n",
        "print(rare_words)"
      ],
      "metadata": {
        "id": "yUYxG24R4Hgn",
        "colab": {
          "base_uri": "https://localhost:8080/"
        },
        "outputId": "356562ef-a465-4b3e-bc5c-be394ba0bafa"
      },
      "execution_count": 37,
      "outputs": [
        {
          "output_type": "stream",
          "name": "stdout",
          "text": [
            "USER         5247\n",
            "URL          2263\n",
            "aapl         1320\n",
            "apple        1104\n",
            "rt            843\n",
            "             ... \n",
            "pleasee         1\n",
            "keepp           1\n",
            "flyingg         1\n",
            "lmaoo           1\n",
            "unhelpful       1\n",
            "Length: 5146, dtype: int64\n",
            "spared       3\n",
            "surprise     3\n",
            "campus       3\n",
            "community    3\n",
            "wasted       3\n",
            "            ..\n",
            "pleasee      1\n",
            "keepp        1\n",
            "flyingg      1\n",
            "lmaoo        1\n",
            "unhelpful    1\n",
            "Length: 3789, dtype: int64\n"
          ]
        }
      ]
    },
    {
      "cell_type": "markdown",
      "source": [
        "#Test, Train, Split"
      ],
      "metadata": {
        "id": "4X1E91wwpEp0"
      }
    },
    {
      "cell_type": "code",
      "source": [
        "X_train, X_test, y_train, y_test = train_test_split(processedtext, sentiment, test_size = 0.20, random_state = 0)"
      ],
      "metadata": {
        "id": "ehXIR3NBvcjd"
      },
      "execution_count": 38,
      "outputs": []
    },
    {
      "cell_type": "markdown",
      "source": [
        "Tf-idf Vectorizer\n",
        "\n",
        "TF-IDF stands for term frequency and inverse document frequency. It is used to tokenize the documents learn the vocabulary and inverse the document frequency weightings, and allow to encode new documents.\n",
        "\n",
        "Example:\n",
        "- A vocabulary of 8 words is learned from the given documents and each word is assigned a unique integer index in the output vector.\n",
        "\n",
        "TF-IDF will transform the text into meaningful representation of numbers which is used to fit machine learning algorithm for predictions.\n",
        "\n",
        "TF-IDF Vectorizer is a measure of originality of a word by comparing the number of times a word appears in document with the number of documents the word appears in. \n",
        "\n",
        "The TfidfVectorizer converts a collection of raw documents into a matrix of TF-IDF features.\n",
        "\n",
        "Formula:\n",
        "- TF-IDF = TF(t, d) x IDF(t), where, TF(t, d) = Number of times term \"t\" appears in a document \"d\". IDF(t) = Inverse document frequency of the term t.\n",
        "\n",
        "\n",
        "\n",
        "https://www.projectpro.io/recipes/use-tf-df-vectorizer "
      ],
      "metadata": {
        "id": "p3xDiIJMd8au"
      }
    },
    {
      "cell_type": "code",
      "source": [
        "vectorizer = TfidfVectorizer(ngram_range=(1,2), max_features = 500000)\n",
        "vectorizer.fit(X_train)"
      ],
      "metadata": {
        "id": "0D8MnUo-p44C",
        "colab": {
          "base_uri": "https://localhost:8080/"
        },
        "outputId": "8c24d168-e3e3-41d6-dc2f-7fe1a7d120e8"
      },
      "execution_count": 39,
      "outputs": [
        {
          "output_type": "execute_result",
          "data": {
            "text/plain": [
              "TfidfVectorizer(max_features=500000, ngram_range=(1, 2))"
            ]
          },
          "metadata": {},
          "execution_count": 39
        }
      ]
    },
    {
      "cell_type": "code",
      "source": [
        "X_train = vectorizer.transform(X_train)\n",
        "X_test  = vectorizer.transform(X_test)"
      ],
      "metadata": {
        "id": "5E7wGREQp7Or"
      },
      "execution_count": 40,
      "outputs": []
    },
    {
      "cell_type": "markdown",
      "source": [
        "#Machine Learning Models"
      ],
      "metadata": {
        "id": "4JDc59UqqFGK"
      }
    },
    {
      "cell_type": "markdown",
      "source": [
        "1. Decision Trees (DTs) are a non-parametric supervised learning method used for classification and regression. The goal is to create a model that predicts the value of a target variable by learning simple decision rules inferred from the data features. A tree can be seen as a piecewise constant approximation. (https://scikit-learn.org/stable/modules/tree.html#tree) \n",
        "  - A Decision Tree is a type of model used for both classification and regression. Decision trees answer sequential questions which sends us down a certain route of the tree given the answer. Essentially, the model behaves with \"if this then that\" conditions ultimately leading to a specific result.\n",
        "\n",
        "2. Support vector machines (SVMs) are a set of supervised learning methods used for classification, regression and outliers detection. The advantages of support vector machines are: Effective in high dimensional spaces, still effective in cases where number of dimensions is greater than the number of samples, and uses a subset of training points in the decision function (called support vectors), so it is also memory efficient. (https://scikit-learn.org/stable/modules/svm.html)\n",
        "  - SVC, NuSVC and LinearSVC are classes capable of performing binary and multi-class classification on a dataset.\n",
        "\n",
        "3. A random forest is a meta estimator that fits a number of decision tree classifiers on various sub-samples of the dataset and uses averaging to improve the predictive accuracy and control over-fitting. The sub-sample size is controlled with the max_samples parameter if bootstrap=True (default), otherwise the whole dataset is used to build each tree. (https://scikit-learn.org/stable/modules/generated/sklearn.ensemble.RandomForestClassifier.html#sklearn.ensemble.RandomForestClassifier) \n",
        "  - Random forest consists of multiple random decision trees. Where each tree is built on a random sample from the original data. And then at each tree node, a subset of features are randomly selected to generate the best possible split.  \n"
      ],
      "metadata": {
        "id": "UvVK1TDYbNIj"
      }
    },
    {
      "cell_type": "code",
      "source": [
        "DTmodel = DecisionTreeClassifier()\n",
        "SVCmodel = LinearSVC()\n",
        "RFmodel = RandomForestClassifier()"
      ],
      "metadata": {
        "id": "jaWZzOGLqIKj"
      },
      "execution_count": 41,
      "outputs": []
    },
    {
      "cell_type": "code",
      "source": [
        "models = [DTmodel, SVCmodel, RFmodel]\n",
        "for model in models:\n",
        "    model.fit(X_train, y_train)\n",
        "    print(f'{model} is trained!')"
      ],
      "metadata": {
        "id": "O3EM0o6VqcUi",
        "colab": {
          "base_uri": "https://localhost:8080/"
        },
        "outputId": "526e8aaf-45ca-4a32-ca48-e06d5369bb3f"
      },
      "execution_count": 42,
      "outputs": [
        {
          "output_type": "stream",
          "name": "stdout",
          "text": [
            "DecisionTreeClassifier() is trained!\n",
            "LinearSVC() is trained!\n",
            "RandomForestClassifier() is trained!\n"
          ]
        }
      ]
    },
    {
      "cell_type": "code",
      "source": [
        "def model_evaluate(model):\n",
        "    y_pred = model.predict(X_test)\n",
        "    print(classification_report(y_test, y_pred))"
      ],
      "metadata": {
        "id": "SHJJyckdqDgY"
      },
      "execution_count": 43,
      "outputs": []
    },
    {
      "cell_type": "code",
      "source": [
        "for model in models:\n",
        "  print(model, model_evaluate(model))"
      ],
      "metadata": {
        "id": "k9lEftohqwH1",
        "colab": {
          "base_uri": "https://localhost:8080/"
        },
        "outputId": "18791217-36c8-4e74-f9cc-56f4f61e48ad"
      },
      "execution_count": 44,
      "outputs": [
        {
          "output_type": "stream",
          "name": "stdout",
          "text": [
            "              precision    recall  f1-score   support\n",
            "\n",
            "           0       0.69      0.56      0.62       248\n",
            "           1       0.72      0.83      0.77       431\n",
            "           2       0.38      0.29      0.33        82\n",
            "\n",
            "    accuracy                           0.68       761\n",
            "   macro avg       0.60      0.56      0.57       761\n",
            "weighted avg       0.67      0.68      0.67       761\n",
            "\n",
            "DecisionTreeClassifier() None\n",
            "              precision    recall  f1-score   support\n",
            "\n",
            "           0       0.83      0.69      0.75       248\n",
            "           1       0.75      0.90      0.82       431\n",
            "           2       0.59      0.28      0.38        82\n",
            "\n",
            "    accuracy                           0.76       761\n",
            "   macro avg       0.72      0.62      0.65       761\n",
            "weighted avg       0.76      0.76      0.75       761\n",
            "\n",
            "LinearSVC() None\n",
            "              precision    recall  f1-score   support\n",
            "\n",
            "           0       0.83      0.64      0.72       248\n",
            "           1       0.73      0.94      0.82       431\n",
            "           2       0.53      0.12      0.20        82\n",
            "\n",
            "    accuracy                           0.75       761\n",
            "   macro avg       0.69      0.56      0.58       761\n",
            "weighted avg       0.74      0.75      0.72       761\n",
            "\n",
            "RandomForestClassifier() None\n"
          ]
        }
      ]
    },
    {
      "cell_type": "markdown",
      "source": [
        "###Create Pipeline "
      ],
      "metadata": {
        "id": "A_8C56Q-sBR2"
      }
    },
    {
      "cell_type": "markdown",
      "source": [
        "A machine learning pipeline is a way to codify and automate the workflow it takes to produce a machine learning model. Machine learning pipelines consist of multiple sequential steps that do everything from data extraction and preprocessing to model training and deployment."
      ],
      "metadata": {
        "id": "jEvb2_Z3c8jL"
      }
    },
    {
      "cell_type": "code",
      "source": [
        "X_train, X_test, y_train, y_test = train_test_split(processedtext, sentiment, test_size = 0.05, random_state = 0)"
      ],
      "metadata": {
        "id": "geByMaP_z2yE"
      },
      "execution_count": 45,
      "outputs": []
    },
    {
      "cell_type": "code",
      "source": [
        "dt_pipe = Pipeline([('vectorizer', vectorizer), ('dt', DTmodel)])\n",
        "dt_pipe.fit(X_train, y_train)"
      ],
      "metadata": {
        "id": "7NY3Q1yWz4tT",
        "colab": {
          "base_uri": "https://localhost:8080/"
        },
        "outputId": "eab07884-767b-4134-80aa-14cf48066f7e"
      },
      "execution_count": 46,
      "outputs": [
        {
          "output_type": "execute_result",
          "data": {
            "text/plain": [
              "Pipeline(steps=[('vectorizer',\n",
              "                 TfidfVectorizer(max_features=500000, ngram_range=(1, 2))),\n",
              "                ('dt', DecisionTreeClassifier())])"
            ]
          },
          "metadata": {},
          "execution_count": 46
        }
      ]
    },
    {
      "cell_type": "code",
      "source": [
        "svc_pipe = Pipeline([('vectorizer', vectorizer), ('svc', SVCmodel)])\n",
        "svc_pipe.fit(X_train, y_train)"
      ],
      "metadata": {
        "id": "Riln-ezNz6K3",
        "colab": {
          "base_uri": "https://localhost:8080/"
        },
        "outputId": "86471391-18a5-4e77-a9b9-d7c3900f8f3f"
      },
      "execution_count": 47,
      "outputs": [
        {
          "output_type": "execute_result",
          "data": {
            "text/plain": [
              "Pipeline(steps=[('vectorizer',\n",
              "                 TfidfVectorizer(max_features=500000, ngram_range=(1, 2))),\n",
              "                ('svc', LinearSVC())])"
            ]
          },
          "metadata": {},
          "execution_count": 47
        }
      ]
    },
    {
      "cell_type": "code",
      "source": [
        "rf_pipe = Pipeline([('vectorizer', vectorizer), ('rf', RFmodel)])\n",
        "rf_pipe.fit(X_train, y_train)"
      ],
      "metadata": {
        "id": "HQMhol6Lz72Q",
        "colab": {
          "base_uri": "https://localhost:8080/"
        },
        "outputId": "415af096-eaba-4f45-81cf-9e6b5dd40246"
      },
      "execution_count": 48,
      "outputs": [
        {
          "output_type": "execute_result",
          "data": {
            "text/plain": [
              "Pipeline(steps=[('vectorizer',\n",
              "                 TfidfVectorizer(max_features=500000, ngram_range=(1, 2))),\n",
              "                ('rf', RandomForestClassifier())])"
            ]
          },
          "metadata": {},
          "execution_count": 48
        }
      ]
    },
    {
      "cell_type": "code",
      "source": [
        "pipes = [dt_pipe, svc_pipe, rf_pipe]\n",
        "\n",
        "for pipe in pipes:\n",
        "  print(pipe, model_evaluate(pipe))"
      ],
      "metadata": {
        "id": "cmd6A4-ezFXP",
        "colab": {
          "base_uri": "https://localhost:8080/"
        },
        "outputId": "a01b588b-1eb3-40ac-fe66-a6249d602bcb"
      },
      "execution_count": 49,
      "outputs": [
        {
          "output_type": "stream",
          "name": "stdout",
          "text": [
            "              precision    recall  f1-score   support\n",
            "\n",
            "           0       0.71      0.63      0.67        51\n",
            "           1       0.76      0.88      0.82       117\n",
            "           2       0.64      0.30      0.41        23\n",
            "\n",
            "    accuracy                           0.74       191\n",
            "   macro avg       0.70      0.60      0.63       191\n",
            "weighted avg       0.73      0.74      0.73       191\n",
            "\n",
            "Pipeline(steps=[('vectorizer',\n",
            "                 TfidfVectorizer(max_features=500000, ngram_range=(1, 2))),\n",
            "                ('dt', DecisionTreeClassifier())]) None\n",
            "              precision    recall  f1-score   support\n",
            "\n",
            "           0       0.82      0.65      0.73        51\n",
            "           1       0.77      0.90      0.83       117\n",
            "           2       0.40      0.26      0.32        23\n",
            "\n",
            "    accuracy                           0.75       191\n",
            "   macro avg       0.67      0.60      0.62       191\n",
            "weighted avg       0.74      0.75      0.74       191\n",
            "\n",
            "Pipeline(steps=[('vectorizer',\n",
            "                 TfidfVectorizer(max_features=500000, ngram_range=(1, 2))),\n",
            "                ('svc', LinearSVC())]) None\n",
            "              precision    recall  f1-score   support\n",
            "\n",
            "           0       0.88      0.69      0.77        51\n",
            "           1       0.80      0.97      0.88       117\n",
            "           2       0.75      0.26      0.39        23\n",
            "\n",
            "    accuracy                           0.81       191\n",
            "   macro avg       0.81      0.64      0.68       191\n",
            "weighted avg       0.81      0.81      0.79       191\n",
            "\n",
            "Pipeline(steps=[('vectorizer',\n",
            "                 TfidfVectorizer(max_features=500000, ngram_range=(1, 2))),\n",
            "                ('rf', RandomForestClassifier())]) None\n"
          ]
        }
      ]
    },
    {
      "cell_type": "code",
      "source": [
        "with open('/content/drive/MyDrive/Predictive Analytics/Final Project/dt_pipe.pickle', 'wb') as file:\n",
        "    pickle.dump(dt_pipe, file) "
      ],
      "metadata": {
        "id": "VePSvmvT0Gbe"
      },
      "execution_count": 50,
      "outputs": []
    },
    {
      "cell_type": "code",
      "source": [
        "with open('/content/drive/MyDrive/Predictive Analytics/Final Project/svc_pipe.pickle', 'wb') as file:\n",
        "    pickle.dump(svc_pipe, file) "
      ],
      "metadata": {
        "id": "kJ9gPTXU0GZI"
      },
      "execution_count": 51,
      "outputs": []
    },
    {
      "cell_type": "code",
      "source": [
        "with open('/content/drive/MyDrive/Predictive Analytics/Final Project/rf_pipe.pickle', 'wb') as file:\n",
        "    pickle.dump(rf_pipe, file) "
      ],
      "metadata": {
        "id": "c8INyRra0GWg"
      },
      "execution_count": 52,
      "outputs": []
    },
    {
      "cell_type": "code",
      "source": [
        "with open('/content/drive/MyDrive/Predictive Analytics/Final Project/dt_pipe.pickle', 'rb') as file:\n",
        "    loaded_dt_pipe = pickle.load(file)"
      ],
      "metadata": {
        "id": "FO8gNeWL0GT1"
      },
      "execution_count": 53,
      "outputs": []
    },
    {
      "cell_type": "code",
      "source": [
        "with open('/content/drive/MyDrive/Predictive Analytics/Final Project/svc_pipe.pickle', 'rb') as file:\n",
        "    loaded_svc_pipe = pickle.load(file)"
      ],
      "metadata": {
        "id": "EtREaK-J0GOD"
      },
      "execution_count": 54,
      "outputs": []
    },
    {
      "cell_type": "code",
      "source": [
        "with open('/content/drive/MyDrive/Predictive Analytics/Final Project/rf_pipe.pickle', 'rb') as file:\n",
        "    loaded_rf_pipe = pickle.load(file)"
      ],
      "metadata": {
        "id": "9ejLjNGI0GDn"
      },
      "execution_count": 55,
      "outputs": []
    },
    {
      "cell_type": "code",
      "source": [
        "loaded_pipes = [loaded_dt_pipe, loaded_svc_pipe, loaded_rf_pipe]\n",
        "\n",
        "for pipe in loaded_pipes:\n",
        "  print(pipe, model_evaluate(pipe))"
      ],
      "metadata": {
        "id": "fvAoyDk91jMH",
        "colab": {
          "base_uri": "https://localhost:8080/"
        },
        "outputId": "fdd37f8b-786a-4cd3-f74b-c452a286dbc9"
      },
      "execution_count": 56,
      "outputs": [
        {
          "output_type": "stream",
          "name": "stdout",
          "text": [
            "              precision    recall  f1-score   support\n",
            "\n",
            "           0       0.71      0.63      0.67        51\n",
            "           1       0.76      0.88      0.82       117\n",
            "           2       0.64      0.30      0.41        23\n",
            "\n",
            "    accuracy                           0.74       191\n",
            "   macro avg       0.70      0.60      0.63       191\n",
            "weighted avg       0.73      0.74      0.73       191\n",
            "\n",
            "Pipeline(steps=[('vectorizer',\n",
            "                 TfidfVectorizer(max_features=500000, ngram_range=(1, 2))),\n",
            "                ('dt', DecisionTreeClassifier())]) None\n",
            "              precision    recall  f1-score   support\n",
            "\n",
            "           0       0.82      0.65      0.73        51\n",
            "           1       0.77      0.90      0.83       117\n",
            "           2       0.40      0.26      0.32        23\n",
            "\n",
            "    accuracy                           0.75       191\n",
            "   macro avg       0.67      0.60      0.62       191\n",
            "weighted avg       0.74      0.75      0.74       191\n",
            "\n",
            "Pipeline(steps=[('vectorizer',\n",
            "                 TfidfVectorizer(max_features=500000, ngram_range=(1, 2))),\n",
            "                ('svc', LinearSVC())]) None\n",
            "              precision    recall  f1-score   support\n",
            "\n",
            "           0       0.88      0.69      0.77        51\n",
            "           1       0.80      0.97      0.88       117\n",
            "           2       0.75      0.26      0.39        23\n",
            "\n",
            "    accuracy                           0.81       191\n",
            "   macro avg       0.81      0.64      0.68       191\n",
            "weighted avg       0.81      0.81      0.79       191\n",
            "\n",
            "Pipeline(steps=[('vectorizer',\n",
            "                 TfidfVectorizer(max_features=500000, ngram_range=(1, 2))),\n",
            "                ('rf', RandomForestClassifier())]) None\n"
          ]
        }
      ]
    },
    {
      "cell_type": "markdown",
      "source": [
        "#Test models"
      ],
      "metadata": {
        "id": "0ChTwmLHxs0u"
      }
    },
    {
      "cell_type": "code",
      "source": [
        "def predict(model, text):\n",
        "    # Predict the sentiment\n",
        "    preprocessed_text = preprocess(text)\n",
        "    predictions = model.predict(preprocessed_text)\n",
        "\n",
        "    pred_to_label = {0: 'Negative', 1: 'Neutral', 2: 'Positive'}\n",
        "\n",
        "    # Make a list of text with sentiment.\n",
        "    data = []\n",
        "    for t, pred in zip(text, predictions):\n",
        "        data.append((t, pred, pred_to_label[pred]))\n",
        "\n",
        "    return data"
      ],
      "metadata": {
        "id": "NoULWP5G16OM"
      },
      "execution_count": 57,
      "outputs": []
    },
    {
      "cell_type": "code",
      "source": [
        "sample_text = [\"Apple sucks! Nothing works correctly.\"]"
      ],
      "metadata": {
        "id": "Os9zzE-Exv-k"
      },
      "execution_count": 58,
      "outputs": []
    },
    {
      "cell_type": "code",
      "source": [
        "for pipe in loaded_pipes:\n",
        "  predictions = predict(pipe, sample_text)\n",
        "  print(pipe, predictions)"
      ],
      "metadata": {
        "id": "57JgC2vq2Rux",
        "colab": {
          "base_uri": "https://localhost:8080/"
        },
        "outputId": "fa0c0f57-840a-43aa-a167-ec319279b030"
      },
      "execution_count": 59,
      "outputs": [
        {
          "output_type": "stream",
          "name": "stdout",
          "text": [
            "Pipeline(steps=[('vectorizer',\n",
            "                 TfidfVectorizer(max_features=500000, ngram_range=(1, 2))),\n",
            "                ('dt', DecisionTreeClassifier())]) [('Apple sucks! Nothing works correctly.', 0, 'Negative')]\n",
            "Pipeline(steps=[('vectorizer',\n",
            "                 TfidfVectorizer(max_features=500000, ngram_range=(1, 2))),\n",
            "                ('svc', LinearSVC())]) [('Apple sucks! Nothing works correctly.', 0, 'Negative')]\n",
            "Pipeline(steps=[('vectorizer',\n",
            "                 TfidfVectorizer(max_features=500000, ngram_range=(1, 2))),\n",
            "                ('rf', RandomForestClassifier())]) [('Apple sucks! Nothing works correctly.', 0, 'Negative')]\n"
          ]
        }
      ]
    },
    {
      "cell_type": "code",
      "source": [
        "sample_text2 = ['Apple products are the best!']"
      ],
      "metadata": {
        "id": "1R3hIkFzdeDE"
      },
      "execution_count": 64,
      "outputs": []
    },
    {
      "cell_type": "code",
      "source": [
        "for pipe in loaded_pipes:\n",
        "  predictions = predict(pipe, sample_text2)\n",
        "  print(pipe, predictions)"
      ],
      "metadata": {
        "colab": {
          "base_uri": "https://localhost:8080/"
        },
        "id": "Iqtz82nWdhvP",
        "outputId": "6ffe8485-f4fc-4ec1-8fee-419dde0cea7a"
      },
      "execution_count": 65,
      "outputs": [
        {
          "output_type": "stream",
          "name": "stdout",
          "text": [
            "Pipeline(steps=[('vectorizer',\n",
            "                 TfidfVectorizer(max_features=500000, ngram_range=(1, 2))),\n",
            "                ('dt', DecisionTreeClassifier())]) [('Apple products are the best!', 2, 'Positive')]\n",
            "Pipeline(steps=[('vectorizer',\n",
            "                 TfidfVectorizer(max_features=500000, ngram_range=(1, 2))),\n",
            "                ('svc', LinearSVC())]) [('Apple products are the best!', 2, 'Positive')]\n",
            "Pipeline(steps=[('vectorizer',\n",
            "                 TfidfVectorizer(max_features=500000, ngram_range=(1, 2))),\n",
            "                ('rf', RandomForestClassifier())]) [('Apple products are the best!', 1, 'Neutral')]\n"
          ]
        }
      ]
    },
    {
      "cell_type": "code",
      "source": [
        "hard = [\"Apple is great! But would not recommend to anyone.\"]"
      ],
      "metadata": {
        "id": "sPOcI9mDc_3I"
      },
      "execution_count": 60,
      "outputs": []
    },
    {
      "cell_type": "code",
      "source": [
        "for pipe in loaded_pipes:\n",
        "  predictions = predict(pipe, hard)\n",
        "  print(pipe, predictions)"
      ],
      "metadata": {
        "colab": {
          "base_uri": "https://localhost:8080/"
        },
        "id": "a7VfSZ-ddXqY",
        "outputId": "1a0d86a3-0c5c-4fbc-8574-cc30dcd77352"
      },
      "execution_count": 61,
      "outputs": [
        {
          "output_type": "stream",
          "name": "stdout",
          "text": [
            "Pipeline(steps=[('vectorizer',\n",
            "                 TfidfVectorizer(max_features=500000, ngram_range=(1, 2))),\n",
            "                ('dt', DecisionTreeClassifier())]) [('Apple is great! But would not recommend to anyone.', 0, 'Negative')]\n",
            "Pipeline(steps=[('vectorizer',\n",
            "                 TfidfVectorizer(max_features=500000, ngram_range=(1, 2))),\n",
            "                ('svc', LinearSVC())]) [('Apple is great! But would not recommend to anyone.', 0, 'Negative')]\n",
            "Pipeline(steps=[('vectorizer',\n",
            "                 TfidfVectorizer(max_features=500000, ngram_range=(1, 2))),\n",
            "                ('rf', RandomForestClassifier())]) [('Apple is great! But would not recommend to anyone.', 0, 'Negative')]\n"
          ]
        }
      ]
    }
  ]
}